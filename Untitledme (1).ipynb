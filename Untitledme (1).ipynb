{
 "cells": [
  {
   "cell_type": "code",
   "execution_count": 4,
   "id": "e6e9eb78-e4cc-4636-a9df-ab9da31da7a9",
   "metadata": {},
   "outputs": [],
   "source": []
  },
  {
   "cell_type": "markdown",
   "id": "b60f9983-b885-440e-a429-5f9cce1622c7",
   "metadata": {},
   "source": [
    "DATA TOOLKIT "
   ]
  },
  {
   "cell_type": "code",
   "execution_count": 5,
   "id": "b8f40f27-ee7f-4046-baca-ebd2f8f6fcc8",
   "metadata": {},
   "outputs": [],
   "source": [
    "#QUESTION 1"
   ]
  },
  {
   "cell_type": "code",
   "execution_count": 7,
   "id": "d4b256c3-4639-476a-b073-cb638aa1808d",
   "metadata": {},
   "outputs": [],
   "source": [
    "#Demonstrate three different methods for creating identical 2D arrays in NumPy Provide the code for each\n",
    "#method and the final output after each method"
   ]
  },
  {
   "cell_type": "code",
   "execution_count": 8,
   "id": "53ade750-7d9b-4e3b-9cd5-d5fd397d2407",
   "metadata": {},
   "outputs": [],
   "source": [
    "import numpy as np"
   ]
  },
  {
   "cell_type": "code",
   "execution_count": 9,
   "id": "3d40b8ce-6108-4e18-a7ad-bf22093074e6",
   "metadata": {},
   "outputs": [
    {
     "data": {
      "text/plain": [
       "array([[3, 3, 3],\n",
       "       [3, 3, 3]])"
      ]
     },
     "execution_count": 9,
     "metadata": {},
     "output_type": "execute_result"
    }
   ],
   "source": [
    "arr1=np.array([[3,3,3],[3,3,3]])\n",
    "arr1"
   ]
  },
  {
   "cell_type": "code",
   "execution_count": 11,
   "id": "9277ee08-da29-4027-8be3-43550d48fe58",
   "metadata": {},
   "outputs": [
    {
     "data": {
      "text/plain": [
       "array([[3, 3, 3],\n",
       "       [3, 3, 3]])"
      ]
     },
     "execution_count": 11,
     "metadata": {},
     "output_type": "execute_result"
    }
   ],
   "source": [
    "arr=np.array([3,3,3,3,3,3])\n",
    "arr2=arr.reshape((2,3))\n",
    "arr2"
   ]
  },
  {
   "cell_type": "code",
   "execution_count": 14,
   "id": "b7680869-903e-4e4d-936c-010aee171de3",
   "metadata": {},
   "outputs": [
    {
     "data": {
      "text/plain": [
       "array([[3, 3, 3],\n",
       "       [3, 3, 3]])"
      ]
     },
     "execution_count": 14,
     "metadata": {},
     "output_type": "execute_result"
    }
   ],
   "source": [
    "ar = np.ones((2,3),dtype=int)\n",
    "arr3 = ar+2\n",
    "arr3"
   ]
  },
  {
   "cell_type": "code",
   "execution_count": null,
   "id": "4ed4751a-e449-4ce6-9970-e00bb33b9daa",
   "metadata": {},
   "outputs": [],
   "source": [
    "\n",
    "\n",
    "\n",
    "\n",
    "\n",
    "\n",
    "\n",
    "\n",
    "\n",
    "\n",
    "\n",
    "\n",
    "\n",
    "\n",
    "\n"
   ]
  },
  {
   "cell_type": "code",
   "execution_count": 15,
   "id": "37fd604d-bf5a-45ff-b453-f2d841194523",
   "metadata": {},
   "outputs": [],
   "source": [
    "#QUESTION 2"
   ]
  },
  {
   "cell_type": "code",
   "execution_count": 17,
   "id": "604d8efe-5c5e-440b-a49d-e8628f620c07",
   "metadata": {},
   "outputs": [],
   "source": [
    "#Using the Numpy function, generate an array of 100 evenly spaced numPers Petween 1 and 10 and\n",
    "#Reshape that 1D array into a 2D array\n"
   ]
  },
  {
   "cell_type": "code",
   "execution_count": 19,
   "id": "0ac300ac-c4c3-4050-98f8-31df4389142a",
   "metadata": {},
   "outputs": [
    {
     "data": {
      "text/plain": [
       "array([ 1.        ,  1.09090909,  1.18181818,  1.27272727,  1.36363636,\n",
       "        1.45454545,  1.54545455,  1.63636364,  1.72727273,  1.81818182,\n",
       "        1.90909091,  2.        ,  2.09090909,  2.18181818,  2.27272727,\n",
       "        2.36363636,  2.45454545,  2.54545455,  2.63636364,  2.72727273,\n",
       "        2.81818182,  2.90909091,  3.        ,  3.09090909,  3.18181818,\n",
       "        3.27272727,  3.36363636,  3.45454545,  3.54545455,  3.63636364,\n",
       "        3.72727273,  3.81818182,  3.90909091,  4.        ,  4.09090909,\n",
       "        4.18181818,  4.27272727,  4.36363636,  4.45454545,  4.54545455,\n",
       "        4.63636364,  4.72727273,  4.81818182,  4.90909091,  5.        ,\n",
       "        5.09090909,  5.18181818,  5.27272727,  5.36363636,  5.45454545,\n",
       "        5.54545455,  5.63636364,  5.72727273,  5.81818182,  5.90909091,\n",
       "        6.        ,  6.09090909,  6.18181818,  6.27272727,  6.36363636,\n",
       "        6.45454545,  6.54545455,  6.63636364,  6.72727273,  6.81818182,\n",
       "        6.90909091,  7.        ,  7.09090909,  7.18181818,  7.27272727,\n",
       "        7.36363636,  7.45454545,  7.54545455,  7.63636364,  7.72727273,\n",
       "        7.81818182,  7.90909091,  8.        ,  8.09090909,  8.18181818,\n",
       "        8.27272727,  8.36363636,  8.45454545,  8.54545455,  8.63636364,\n",
       "        8.72727273,  8.81818182,  8.90909091,  9.        ,  9.09090909,\n",
       "        9.18181818,  9.27272727,  9.36363636,  9.45454545,  9.54545455,\n",
       "        9.63636364,  9.72727273,  9.81818182,  9.90909091, 10.        ])"
      ]
     },
     "execution_count": 19,
     "metadata": {},
     "output_type": "execute_result"
    }
   ],
   "source": [
    "array_1=np.linspace(1,10,(100))\n",
    "array_1"
   ]
  },
  {
   "cell_type": "code",
   "execution_count": 20,
   "id": "8b954812-7ae5-4e16-9299-71ff3511a2c6",
   "metadata": {},
   "outputs": [
    {
     "data": {
      "text/plain": [
       "array([[ 1.        ,  1.09090909,  1.18181818,  1.27272727,  1.36363636,\n",
       "         1.45454545,  1.54545455,  1.63636364,  1.72727273,  1.81818182],\n",
       "       [ 1.90909091,  2.        ,  2.09090909,  2.18181818,  2.27272727,\n",
       "         2.36363636,  2.45454545,  2.54545455,  2.63636364,  2.72727273],\n",
       "       [ 2.81818182,  2.90909091,  3.        ,  3.09090909,  3.18181818,\n",
       "         3.27272727,  3.36363636,  3.45454545,  3.54545455,  3.63636364],\n",
       "       [ 3.72727273,  3.81818182,  3.90909091,  4.        ,  4.09090909,\n",
       "         4.18181818,  4.27272727,  4.36363636,  4.45454545,  4.54545455],\n",
       "       [ 4.63636364,  4.72727273,  4.81818182,  4.90909091,  5.        ,\n",
       "         5.09090909,  5.18181818,  5.27272727,  5.36363636,  5.45454545],\n",
       "       [ 5.54545455,  5.63636364,  5.72727273,  5.81818182,  5.90909091,\n",
       "         6.        ,  6.09090909,  6.18181818,  6.27272727,  6.36363636],\n",
       "       [ 6.45454545,  6.54545455,  6.63636364,  6.72727273,  6.81818182,\n",
       "         6.90909091,  7.        ,  7.09090909,  7.18181818,  7.27272727],\n",
       "       [ 7.36363636,  7.45454545,  7.54545455,  7.63636364,  7.72727273,\n",
       "         7.81818182,  7.90909091,  8.        ,  8.09090909,  8.18181818],\n",
       "       [ 8.27272727,  8.36363636,  8.45454545,  8.54545455,  8.63636364,\n",
       "         8.72727273,  8.81818182,  8.90909091,  9.        ,  9.09090909],\n",
       "       [ 9.18181818,  9.27272727,  9.36363636,  9.45454545,  9.54545455,\n",
       "         9.63636364,  9.72727273,  9.81818182,  9.90909091, 10.        ]])"
      ]
     },
     "execution_count": 20,
     "metadata": {},
     "output_type": "execute_result"
    }
   ],
   "source": [
    "array_2=array_1.reshape((10,10))\n",
    "array_2"
   ]
  },
  {
   "cell_type": "code",
   "execution_count": null,
   "id": "4513e71b-6bce-4ab6-86d6-5291f4a19689",
   "metadata": {},
   "outputs": [],
   "source": [
    "\n",
    "\n",
    "\n",
    "\n",
    "\n",
    "\n",
    "\n",
    "\n",
    "\n",
    "\n",
    "\n",
    "\n"
   ]
  },
  {
   "cell_type": "code",
   "execution_count": 21,
   "id": "ef63caf1-dc64-49b9-a010-ad2353b33071",
   "metadata": {},
   "outputs": [],
   "source": [
    "#QUESTION 3"
   ]
  },
  {
   "cell_type": "code",
   "execution_count": 22,
   "id": "f9ca4f1d-b20d-49cf-be6e-87b7fb1eb5f9",
   "metadata": {},
   "outputs": [],
   "source": [
    "#1.  The difference in np.array, np.asarray and np.asanyarray\n"
   ]
  },
  {
   "cell_type": "code",
   "execution_count": 23,
   "id": "c626f0be-f6a2-4325-9e39-98d6c595bf78",
   "metadata": {},
   "outputs": [
    {
     "data": {
      "text/plain": [
       "array([1, 2, 3])"
      ]
     },
     "execution_count": 23,
     "metadata": {},
     "output_type": "execute_result"
    }
   ],
   "source": [
    "'''np.array is use for create a new array'''\n",
    "\n",
    "np.array([1,2,3])"
   ]
  },
  {
   "cell_type": "code",
   "execution_count": 24,
   "id": "06989af3-0502-423f-9273-960ee00d4959",
   "metadata": {},
   "outputs": [
    {
     "data": {
      "text/plain": [
       "array([1, 2, 3, 4])"
      ]
     },
     "execution_count": 24,
     "metadata": {},
     "output_type": "execute_result"
    }
   ],
   "source": [
    "'''np.asarray is use to convert any input to an numpy array'''\n",
    "\n",
    "l=[1,2,3,4]\n",
    "np.asarray(l)"
   ]
  },
  {
   "cell_type": "code",
   "execution_count": 25,
   "id": "8558f9b8-ad8c-49a8-9714-389a50c2ffb0",
   "metadata": {},
   "outputs": [
    {
     "data": {
      "text/plain": [
       "array([2, 3, 4])"
      ]
     },
     "execution_count": 25,
     "metadata": {},
     "output_type": "execute_result"
    }
   ],
   "source": [
    "'''np.asany array is also used to create a numpy nd array but also create a sub classes'''\n",
    "\n",
    "a=[2,3,4]\n",
    "np.asanyarray(a)"
   ]
  },
  {
   "cell_type": "code",
   "execution_count": null,
   "id": "841d8b37-fba4-41ef-9a5e-74ea209853cb",
   "metadata": {},
   "outputs": [],
   "source": [
    "\n",
    "\n"
   ]
  },
  {
   "cell_type": "code",
   "execution_count": 26,
   "id": "1f4f6195-2688-4826-a0e5-e8fa562aa16a",
   "metadata": {},
   "outputs": [],
   "source": [
    "#2 The difference between Deep copy and shallow copy"
   ]
  },
  {
   "cell_type": "code",
   "execution_count": 27,
   "id": "fe947268-35b6-45a2-a9ad-8bfed400bda2",
   "metadata": {},
   "outputs": [
    {
     "data": {
      "text/plain": [
       "array([1, 2, 3, 4, 5])"
      ]
     },
     "execution_count": 27,
     "metadata": {},
     "output_type": "execute_result"
    }
   ],
   "source": [
    " #shallow copy\n",
    "    \n",
    "#taking a list and convert intu array\n",
    "l=[1,2,3,4,5]\n",
    "arr=np.array(l)\n",
    "arr"
   ]
  },
  {
   "cell_type": "code",
   "execution_count": 28,
   "id": "26cfb3c4-1c78-443d-8c80-14c3db7854d2",
   "metadata": {},
   "outputs": [
    {
     "data": {
      "text/plain": [
       "array([1, 2, 3, 4, 5])"
      ]
     },
     "execution_count": 28,
     "metadata": {},
     "output_type": "execute_result"
    }
   ],
   "source": [
    "#taking a another varible 'x' and putting 'arr'into it\n",
    "x=arr\n",
    "x"
   ]
  },
  {
   "cell_type": "code",
   "execution_count": 29,
   "id": "2dfa4556-9c9f-4329-b913-3435ff27718e",
   "metadata": {},
   "outputs": [
    {
     "data": {
      "text/plain": [
       "array([  1, 200,   3,   4,   5])"
      ]
     },
     "execution_count": 29,
     "metadata": {},
     "output_type": "execute_result"
    }
   ],
   "source": [
    "#now i change any index value of arr\n",
    "arr[1]=200\n",
    "x"
   ]
  },
  {
   "cell_type": "code",
   "execution_count": 30,
   "id": "fc96ed72-698e-4005-978f-527f69527e76",
   "metadata": {},
   "outputs": [],
   "source": [
    "#i am changing the value of 'arr' but 'x' was automatic change this is called shallow copy"
   ]
  },
  {
   "cell_type": "code",
   "execution_count": null,
   "id": "c6ab9d5e-a563-4652-82f8-12d1ed4aac74",
   "metadata": {},
   "outputs": [],
   "source": [
    "\n",
    "\n",
    "\n",
    "\n"
   ]
  },
  {
   "cell_type": "code",
   "execution_count": 31,
   "id": "3d33c5f8-5484-4e59-9ac8-ad606378e03a",
   "metadata": {},
   "outputs": [
    {
     "data": {
      "text/plain": [
       "array([  1, 200,   3,   4,   5])"
      ]
     },
     "execution_count": 31,
     "metadata": {},
     "output_type": "execute_result"
    }
   ],
   "source": [
    "#deep copy\n",
    "\n",
    "#we take an another varible'y' and insert a copy of arr\n",
    "y=arr.copy()\n",
    "y\n"
   ]
  },
  {
   "cell_type": "code",
   "execution_count": 32,
   "id": "35a3bf5e-951f-4f74-85ee-6973c0508951",
   "metadata": {},
   "outputs": [
    {
     "data": {
      "text/plain": [
       "array([  1, 500,   3,   4,   5])"
      ]
     },
     "execution_count": 32,
     "metadata": {},
     "output_type": "execute_result"
    }
   ],
   "source": [
    "#now i am changing any index value of arr\n",
    "arr[1]=500\n",
    "arr"
   ]
  },
  {
   "cell_type": "code",
   "execution_count": 33,
   "id": "0f699bc9-0c5a-4f24-82c3-f64a39a98366",
   "metadata": {},
   "outputs": [
    {
     "data": {
      "text/plain": [
       "array([  1, 200,   3,   4,   5])"
      ]
     },
     "execution_count": 33,
     "metadata": {},
     "output_type": "execute_result"
    }
   ],
   "source": [
    "y"
   ]
  },
  {
   "cell_type": "code",
   "execution_count": 34,
   "id": "cc67fd12-257d-42bb-bf6b-362d8e9e8c2f",
   "metadata": {},
   "outputs": [],
   "source": [
    "#hear we can see that arr has chang index value but y remains as it is ,this is called deep copy\n"
   ]
  },
  {
   "cell_type": "code",
   "execution_count": null,
   "id": "7ac9864f-1056-4d31-91c0-4bcf40b04455",
   "metadata": {},
   "outputs": [],
   "source": [
    "\n",
    "\n",
    "\n",
    "\n",
    "\n",
    "\n",
    "\n",
    "\n",
    "\n",
    "\n",
    "\n",
    "\n",
    "\n",
    "\n",
    "\n",
    "\n",
    "\n",
    "\n",
    "\n",
    "\n",
    "\n"
   ]
  },
  {
   "cell_type": "code",
   "execution_count": 35,
   "id": "ebb624b4-89a4-4a4b-983a-aa6f5ebb1d83",
   "metadata": {},
   "outputs": [],
   "source": [
    "#QUESTION 4"
   ]
  },
  {
   "cell_type": "code",
   "execution_count": 36,
   "id": "df5391ce-3812-4d05-9670-2a6db5d4cd43",
   "metadata": {},
   "outputs": [],
   "source": [
    "# Generate a 3x3 array with random floating-point numBers Between 5 and 20 Then, round each numBer in\n",
    "#the array to 2 decimal places\n"
   ]
  },
  {
   "cell_type": "code",
   "execution_count": 32,
   "id": "a09b67aa-288c-4b3c-bd7d-6e207c252676",
   "metadata": {},
   "outputs": [
    {
     "data": {
      "text/plain": [
       "array([[11.08938547, 18.83732208, 19.58268572],\n",
       "       [18.71005192,  6.02830941, 19.84934797],\n",
       "       [ 9.27977306,  6.07259667, 20.85430429]])"
      ]
     },
     "execution_count": 32,
     "metadata": {},
     "output_type": "execute_result"
    }
   ],
   "source": [
    "array_random=np.random.uniform(5,21,(3,3))\n",
    "array_random"
   ]
  },
  {
   "cell_type": "code",
   "execution_count": 33,
   "id": "c3cb4c3c-2724-4446-aca0-cd2e97245f10",
   "metadata": {},
   "outputs": [
    {
     "data": {
      "text/plain": [
       "array([[11.09, 18.84, 19.58],\n",
       "       [18.71,  6.03, 19.85],\n",
       "       [ 9.28,  6.07, 20.85]])"
      ]
     },
     "execution_count": 33,
     "metadata": {},
     "output_type": "execute_result"
    }
   ],
   "source": [
    "array_random=np.round(array_random,2)\n",
    "array_random"
   ]
  },
  {
   "cell_type": "code",
   "execution_count": null,
   "id": "8735bab7-1c39-496e-9b84-b303d2726553",
   "metadata": {},
   "outputs": [],
   "source": [
    "\n",
    "\n",
    "\n",
    "\n",
    "\n",
    "\n",
    "\n",
    "\n",
    "\n",
    "\n",
    "\n",
    "\n",
    "\n",
    "\n",
    "\n"
   ]
  },
  {
   "cell_type": "code",
   "execution_count": 1,
   "id": "b8b4c74a-45e2-43df-bd9f-c22387d78f52",
   "metadata": {},
   "outputs": [],
   "source": [
    "#question 5"
   ]
  },
  {
   "cell_type": "code",
   "execution_count": 2,
   "id": "95273af5-2d83-4af4-9a33-638e5a14d737",
   "metadata": {},
   "outputs": [],
   "source": [
    "# Create a NumPy array with random integers Petween 1 and 10 of shape (5, 6)) After creating the array\n",
    "#perform the following operations:"
   ]
  },
  {
   "cell_type": "code",
   "execution_count": 34,
   "id": "c8b40641-7faf-4c5a-a25d-f18cf88e8f5e",
   "metadata": {},
   "outputs": [
    {
     "data": {
      "text/plain": [
       "array([[ 3,  5,  4,  7,  7,  1],\n",
       "       [ 6,  4,  7,  9, 10,  8],\n",
       "       [ 3, 10,  3,  1, 10,  8],\n",
       "       [ 3,  3,  8,  5,  5,  9],\n",
       "       [ 9,  3,  4, 10,  7,  3]])"
      ]
     },
     "execution_count": 34,
     "metadata": {},
     "output_type": "execute_result"
    }
   ],
   "source": [
    "import numpy as np\n",
    "\n",
    "random_array=np.random.randint(1,11,(5,6))\n",
    "random_array"
   ]
  },
  {
   "cell_type": "code",
   "execution_count": 35,
   "id": "3c8ffd52-eb95-4f4c-86b6-e45a8e6d66a0",
   "metadata": {},
   "outputs": [
    {
     "data": {
      "text/plain": [
       "array([ 4,  6,  4, 10,  8, 10, 10,  8,  8,  4, 10])"
      ]
     },
     "execution_count": 35,
     "metadata": {},
     "output_type": "execute_result"
    }
   ],
   "source": [
    "# all even integer\n",
    "\n",
    "even= random_array[random_array%2==0]\n",
    "even"
   ]
  },
  {
   "cell_type": "code",
   "execution_count": 36,
   "id": "1db3513e-7af3-47d6-82f3-2473a33c2146",
   "metadata": {},
   "outputs": [
    {
     "data": {
      "text/plain": [
       "array([3, 5, 7, 7, 1, 7, 9, 3, 3, 1, 3, 3, 5, 5, 9, 9, 3, 7, 3])"
      ]
     },
     "execution_count": 36,
     "metadata": {},
     "output_type": "execute_result"
    }
   ],
   "source": [
    "#all odd integer\n",
    "\n",
    "odd=random_array[random_array % 2!=0]\n",
    "odd"
   ]
  },
  {
   "cell_type": "code",
   "execution_count": null,
   "id": "f4ed06c5-6538-4cab-9932-5593db759929",
   "metadata": {},
   "outputs": [],
   "source": [
    "\n",
    "\n",
    "\n",
    "\n",
    "\n",
    "\n",
    "\n",
    "\n",
    "\n",
    "\n",
    "\n",
    "\n",
    "\n"
   ]
  },
  {
   "cell_type": "code",
   "execution_count": 10,
   "id": "1c6244de-87d0-472e-84a1-788ce2f06b67",
   "metadata": {},
   "outputs": [],
   "source": [
    "#QUESTION 6"
   ]
  },
  {
   "cell_type": "code",
   "execution_count": 11,
   "id": "a771ddb4-d8a2-44a5-82ea-39e22ce0b415",
   "metadata": {},
   "outputs": [],
   "source": [
    "#Create a 3D NumPy array of shape (3, 3,3) containing random integers Petween 1 and 10 Perform the following operations"
   ]
  },
  {
   "cell_type": "code",
   "execution_count": 37,
   "id": "72a5ffc1-2fba-4bff-a7c0-294c1cc31e77",
   "metadata": {},
   "outputs": [],
   "source": [
    "array1=np.random.randint(1,11,(3,3,3))"
   ]
  },
  {
   "cell_type": "code",
   "execution_count": 38,
   "id": "89f2bb75-254a-4337-b70b-09f9faf8b22f",
   "metadata": {},
   "outputs": [
    {
     "data": {
      "text/plain": [
       "array([[[ 8,  9, 10],\n",
       "        [ 9,  4,  9],\n",
       "        [ 9,  1,  2]],\n",
       "\n",
       "       [[ 2,  7,  3],\n",
       "        [ 6,  7,  5],\n",
       "        [10, 10,  7]],\n",
       "\n",
       "       [[ 5,  7,  2],\n",
       "        [ 2,  6,  5],\n",
       "        [ 3,  8,  8]]])"
      ]
     },
     "execution_count": 38,
     "metadata": {},
     "output_type": "execute_result"
    }
   ],
   "source": [
    "array1"
   ]
  },
  {
   "cell_type": "code",
   "execution_count": 39,
   "id": "6e1ec715-77d3-41bf-ac18-2699b626ec6a",
   "metadata": {},
   "outputs": [
    {
     "data": {
      "text/plain": [
       "array([[2, 0, 0],\n",
       "       [1, 1, 0],\n",
       "       [1, 1, 1]])"
      ]
     },
     "execution_count": 39,
     "metadata": {},
     "output_type": "execute_result"
    }
   ],
   "source": [
    "# 1  maximum indices \n",
    "\n",
    "max_value=np.argmax(array1,axis=2)\n",
    "max_value"
   ]
  },
  {
   "cell_type": "code",
   "execution_count": null,
   "id": "ff51fe9c-a151-49e5-8b59-5955ea8b50a4",
   "metadata": {},
   "outputs": [],
   "source": [
    "# 2  Perform element wise multiplication of between both array"
   ]
  },
  {
   "cell_type": "code",
   "execution_count": 40,
   "id": "2e41df7f-ab8d-40eb-b4b9-c5065a6298c3",
   "metadata": {},
   "outputs": [
    {
     "data": {
      "text/plain": [
       "array([[[16,  0,  0],\n",
       "        [ 9,  4,  0],\n",
       "        [ 9,  1,  2]],\n",
       "\n",
       "       [[ 4,  0,  0],\n",
       "        [ 6,  7,  0],\n",
       "        [10, 10,  7]],\n",
       "\n",
       "       [[10,  0,  0],\n",
       "        [ 2,  6,  0],\n",
       "        [ 3,  8,  8]]])"
      ]
     },
     "execution_count": 40,
     "metadata": {},
     "output_type": "execute_result"
    }
   ],
   "source": [
    "multiplication=np.multiply(array1,max_value)\n",
    "\n",
    "#multiplication=array1*max_value\n",
    "\n",
    "multiplication"
   ]
  },
  {
   "cell_type": "code",
   "execution_count": null,
   "id": "fbf3a9d1-9829-42df-9b41-2e26e60f5724",
   "metadata": {},
   "outputs": [],
   "source": [
    "\n",
    "\n",
    "\n",
    "\n",
    "\n",
    "\n",
    "\n",
    "\n",
    "\n",
    "\n"
   ]
  },
  {
   "cell_type": "code",
   "execution_count": 24,
   "id": "d5d2d57a-de47-4e4a-bd6f-03f2c8edf25b",
   "metadata": {},
   "outputs": [],
   "source": [
    "#question 7\n"
   ]
  },
  {
   "cell_type": "code",
   "execution_count": 25,
   "id": "7837c375-86ea-4c05-9579-0527f6ceb58f",
   "metadata": {},
   "outputs": [],
   "source": [
    "#Clean and transform the 'Phone' column in the sample dataset to remove non-numeric characters and\n",
    "#convert it to a numeric data type Also display the taPle attriPutes and data types of each column"
   ]
  },
  {
   "cell_type": "code",
   "execution_count": 26,
   "id": "6630583c-d505-4e8e-aa30-2235fb665eb4",
   "metadata": {},
   "outputs": [],
   "source": [
    "#QUESTION 8"
   ]
  },
  {
   "cell_type": "code",
   "execution_count": 27,
   "id": "86180bcc-ac8d-4b11-8190-5ec38a57e333",
   "metadata": {},
   "outputs": [],
   "source": [
    "#Perform the following tasK using people dataset:"
   ]
  },
  {
   "cell_type": "code",
   "execution_count": 28,
   "id": "2df34271-d164-4eee-9883-b83ba2cf99ea",
   "metadata": {},
   "outputs": [],
   "source": [
    "#a) Read the 'dataYcsv' file using pandas, skipping the first 50 rows.\n"
   ]
  },
  {
   "cell_type": "code",
   "execution_count": 30,
   "id": "4a932496-b263-47ec-bb2e-5bb9d3b330ad",
   "metadata": {},
   "outputs": [],
   "source": [
    "import pandas as pd"
   ]
  },
  {
   "cell_type": "code",
   "execution_count": 33,
   "id": "fc3958d7-ee39-4649-8f87-d8c9333a4a98",
   "metadata": {},
   "outputs": [],
   "source": [
    "df=pd.read_csv('People Data.csv')"
   ]
  },
  {
   "cell_type": "code",
   "execution_count": 34,
   "id": "0fda8a50-1adf-4461-bfcd-f3dd7c05a103",
   "metadata": {},
   "outputs": [
    {
     "data": {
      "text/html": [
       "<div>\n",
       "<style scoped>\n",
       "    .dataframe tbody tr th:only-of-type {\n",
       "        vertical-align: middle;\n",
       "    }\n",
       "\n",
       "    .dataframe tbody tr th {\n",
       "        vertical-align: top;\n",
       "    }\n",
       "\n",
       "    .dataframe thead th {\n",
       "        text-align: right;\n",
       "    }\n",
       "</style>\n",
       "<table border=\"1\" class=\"dataframe\">\n",
       "  <thead>\n",
       "    <tr style=\"text-align: right;\">\n",
       "      <th></th>\n",
       "      <th>Index</th>\n",
       "      <th>User Id</th>\n",
       "      <th>First Name</th>\n",
       "      <th>Last Name</th>\n",
       "      <th>Gender</th>\n",
       "      <th>Email</th>\n",
       "      <th>Phone</th>\n",
       "      <th>Date of birth</th>\n",
       "      <th>Job Title</th>\n",
       "      <th>Salary</th>\n",
       "    </tr>\n",
       "  </thead>\n",
       "  <tbody>\n",
       "    <tr>\n",
       "      <th>0</th>\n",
       "      <td>1</td>\n",
       "      <td>8717bbf45cCDbEe</td>\n",
       "      <td>Shelia</td>\n",
       "      <td>Mahoney</td>\n",
       "      <td>Male</td>\n",
       "      <td>pwarner@example.org</td>\n",
       "      <td>857.139.8239</td>\n",
       "      <td>27-01-2014</td>\n",
       "      <td>Probation officer</td>\n",
       "      <td>90000</td>\n",
       "    </tr>\n",
       "    <tr>\n",
       "      <th>1</th>\n",
       "      <td>2</td>\n",
       "      <td>3d5AD30A4cD38ed</td>\n",
       "      <td>Jo</td>\n",
       "      <td>Rivers</td>\n",
       "      <td>Female</td>\n",
       "      <td>fergusonkatherine@example.net</td>\n",
       "      <td>NaN</td>\n",
       "      <td>26-07-1931</td>\n",
       "      <td>Dancer</td>\n",
       "      <td>80000</td>\n",
       "    </tr>\n",
       "    <tr>\n",
       "      <th>2</th>\n",
       "      <td>3</td>\n",
       "      <td>810Ce0F276Badec</td>\n",
       "      <td>Sheryl</td>\n",
       "      <td>Lowery</td>\n",
       "      <td>Female</td>\n",
       "      <td>fhoward@example.org</td>\n",
       "      <td>(599)782-0605</td>\n",
       "      <td>25-11-2013</td>\n",
       "      <td>Copy</td>\n",
       "      <td>50000</td>\n",
       "    </tr>\n",
       "    <tr>\n",
       "      <th>3</th>\n",
       "      <td>4</td>\n",
       "      <td>BF2a889C00f0cE1</td>\n",
       "      <td>Whitney</td>\n",
       "      <td>Hooper</td>\n",
       "      <td>Male</td>\n",
       "      <td>zjohnston@example.com</td>\n",
       "      <td>NaN</td>\n",
       "      <td>17-11-2012</td>\n",
       "      <td>Counselling psychologist</td>\n",
       "      <td>65000</td>\n",
       "    </tr>\n",
       "    <tr>\n",
       "      <th>4</th>\n",
       "      <td>5</td>\n",
       "      <td>9afFEafAe1CBBB9</td>\n",
       "      <td>Lindsey</td>\n",
       "      <td>Rice</td>\n",
       "      <td>Female</td>\n",
       "      <td>elin@example.net</td>\n",
       "      <td>(390)417-1635x3010</td>\n",
       "      <td>15-04-1923</td>\n",
       "      <td>Biomedical engineer</td>\n",
       "      <td>100000</td>\n",
       "    </tr>\n",
       "    <tr>\n",
       "      <th>...</th>\n",
       "      <td>...</td>\n",
       "      <td>...</td>\n",
       "      <td>...</td>\n",
       "      <td>...</td>\n",
       "      <td>...</td>\n",
       "      <td>...</td>\n",
       "      <td>...</td>\n",
       "      <td>...</td>\n",
       "      <td>...</td>\n",
       "      <td>...</td>\n",
       "    </tr>\n",
       "    <tr>\n",
       "      <th>995</th>\n",
       "      <td>996</td>\n",
       "      <td>fedF4c7Fd9e7cFa</td>\n",
       "      <td>Kurt</td>\n",
       "      <td>Bryant</td>\n",
       "      <td>Female</td>\n",
       "      <td>lyonsdaisy@example.net</td>\n",
       "      <td>021.775.2933</td>\n",
       "      <td>05-01-1959</td>\n",
       "      <td>Personnel officer</td>\n",
       "      <td>90000</td>\n",
       "    </tr>\n",
       "    <tr>\n",
       "      <th>996</th>\n",
       "      <td>997</td>\n",
       "      <td>ECddaFEDdEc4FAB</td>\n",
       "      <td>Donna</td>\n",
       "      <td>Barry</td>\n",
       "      <td>Female</td>\n",
       "      <td>dariusbryan@example.com</td>\n",
       "      <td>001-149-710-7799x721</td>\n",
       "      <td>06-10-2001</td>\n",
       "      <td>Education administrator</td>\n",
       "      <td>50000</td>\n",
       "    </tr>\n",
       "    <tr>\n",
       "      <th>997</th>\n",
       "      <td>998</td>\n",
       "      <td>2adde51d8B8979E</td>\n",
       "      <td>Cathy</td>\n",
       "      <td>Mckinney</td>\n",
       "      <td>Female</td>\n",
       "      <td>georgechan@example.org</td>\n",
       "      <td>+1-750-774-4128x33265</td>\n",
       "      <td>13-05-1918</td>\n",
       "      <td>Commercial/residential surveyor</td>\n",
       "      <td>60000</td>\n",
       "    </tr>\n",
       "    <tr>\n",
       "      <th>998</th>\n",
       "      <td>999</td>\n",
       "      <td>Fb2FE369D1E171A</td>\n",
       "      <td>Jermaine</td>\n",
       "      <td>Phelps</td>\n",
       "      <td>Male</td>\n",
       "      <td>wanda04@example.net</td>\n",
       "      <td>(915)292-2254</td>\n",
       "      <td>31-08-1971</td>\n",
       "      <td>Ambulance person</td>\n",
       "      <td>100000</td>\n",
       "    </tr>\n",
       "    <tr>\n",
       "      <th>999</th>\n",
       "      <td>1000</td>\n",
       "      <td>8b756f6231DDC6e</td>\n",
       "      <td>Lee</td>\n",
       "      <td>Tran</td>\n",
       "      <td>Female</td>\n",
       "      <td>deannablack@example.org</td>\n",
       "      <td>079.752.5424x67259</td>\n",
       "      <td>24-01-1947</td>\n",
       "      <td>Nurse, learning disability</td>\n",
       "      <td>90000</td>\n",
       "    </tr>\n",
       "  </tbody>\n",
       "</table>\n",
       "<p>1000 rows × 10 columns</p>\n",
       "</div>"
      ],
      "text/plain": [
       "     Index          User Id First Name Last Name  Gender  \\\n",
       "0        1  8717bbf45cCDbEe     Shelia   Mahoney    Male   \n",
       "1        2  3d5AD30A4cD38ed         Jo    Rivers  Female   \n",
       "2        3  810Ce0F276Badec     Sheryl    Lowery  Female   \n",
       "3        4  BF2a889C00f0cE1    Whitney    Hooper    Male   \n",
       "4        5  9afFEafAe1CBBB9    Lindsey      Rice  Female   \n",
       "..     ...              ...        ...       ...     ...   \n",
       "995    996  fedF4c7Fd9e7cFa       Kurt    Bryant  Female   \n",
       "996    997  ECddaFEDdEc4FAB      Donna     Barry  Female   \n",
       "997    998  2adde51d8B8979E      Cathy  Mckinney  Female   \n",
       "998    999  Fb2FE369D1E171A   Jermaine    Phelps    Male   \n",
       "999   1000  8b756f6231DDC6e        Lee      Tran  Female   \n",
       "\n",
       "                             Email                  Phone Date of birth  \\\n",
       "0              pwarner@example.org           857.139.8239    27-01-2014   \n",
       "1    fergusonkatherine@example.net                    NaN    26-07-1931   \n",
       "2              fhoward@example.org          (599)782-0605    25-11-2013   \n",
       "3            zjohnston@example.com                    NaN    17-11-2012   \n",
       "4                 elin@example.net     (390)417-1635x3010    15-04-1923   \n",
       "..                             ...                    ...           ...   \n",
       "995         lyonsdaisy@example.net           021.775.2933    05-01-1959   \n",
       "996        dariusbryan@example.com   001-149-710-7799x721    06-10-2001   \n",
       "997         georgechan@example.org  +1-750-774-4128x33265    13-05-1918   \n",
       "998            wanda04@example.net          (915)292-2254    31-08-1971   \n",
       "999        deannablack@example.org     079.752.5424x67259    24-01-1947   \n",
       "\n",
       "                           Job Title  Salary  \n",
       "0                  Probation officer   90000  \n",
       "1                             Dancer   80000  \n",
       "2                               Copy   50000  \n",
       "3           Counselling psychologist   65000  \n",
       "4                Biomedical engineer  100000  \n",
       "..                               ...     ...  \n",
       "995                Personnel officer   90000  \n",
       "996          Education administrator   50000  \n",
       "997  Commercial/residential surveyor   60000  \n",
       "998                 Ambulance person  100000  \n",
       "999       Nurse, learning disability   90000  \n",
       "\n",
       "[1000 rows x 10 columns]"
      ]
     },
     "execution_count": 34,
     "metadata": {},
     "output_type": "execute_result"
    }
   ],
   "source": [
    "df"
   ]
  },
  {
   "cell_type": "code",
   "execution_count": 37,
   "id": "479d4fa0-b1dd-40b7-baca-19751e02ad01",
   "metadata": {},
   "outputs": [
    {
     "data": {
      "text/html": [
       "<div>\n",
       "<style scoped>\n",
       "    .dataframe tbody tr th:only-of-type {\n",
       "        vertical-align: middle;\n",
       "    }\n",
       "\n",
       "    .dataframe tbody tr th {\n",
       "        vertical-align: top;\n",
       "    }\n",
       "\n",
       "    .dataframe thead th {\n",
       "        text-align: right;\n",
       "    }\n",
       "</style>\n",
       "<table border=\"1\" class=\"dataframe\">\n",
       "  <thead>\n",
       "    <tr style=\"text-align: right;\">\n",
       "      <th></th>\n",
       "      <th>50</th>\n",
       "      <th>afF3018e9cdd1dA</th>\n",
       "      <th>George</th>\n",
       "      <th>Mercer</th>\n",
       "      <th>Female</th>\n",
       "      <th>douglascontreras@example.net</th>\n",
       "      <th>+1-326-669-0118x4341</th>\n",
       "      <th>11-09-1941</th>\n",
       "      <th>Human resources officer</th>\n",
       "      <th>70000</th>\n",
       "    </tr>\n",
       "  </thead>\n",
       "  <tbody>\n",
       "    <tr>\n",
       "      <th>0</th>\n",
       "      <td>51</td>\n",
       "      <td>CccE5DAb6E288e5</td>\n",
       "      <td>Jo</td>\n",
       "      <td>Zavala</td>\n",
       "      <td>Male</td>\n",
       "      <td>pamela64@example.net</td>\n",
       "      <td>001-859-448-9935x54536</td>\n",
       "      <td>23-11-1992</td>\n",
       "      <td>Nurse, adult</td>\n",
       "      <td>80000</td>\n",
       "    </tr>\n",
       "    <tr>\n",
       "      <th>1</th>\n",
       "      <td>52</td>\n",
       "      <td>DfBDc3621D4bcec</td>\n",
       "      <td>Joshua</td>\n",
       "      <td>Carey</td>\n",
       "      <td>Female</td>\n",
       "      <td>dianashepherd@example.net</td>\n",
       "      <td>001-274-739-8470x814</td>\n",
       "      <td>07-01-1915</td>\n",
       "      <td>Seismic interpreter</td>\n",
       "      <td>70000</td>\n",
       "    </tr>\n",
       "    <tr>\n",
       "      <th>2</th>\n",
       "      <td>53</td>\n",
       "      <td>f55b0A249f5E44D</td>\n",
       "      <td>Rickey</td>\n",
       "      <td>Hobbs</td>\n",
       "      <td>Female</td>\n",
       "      <td>ingramtiffany@example.org</td>\n",
       "      <td>241.179.9509x498</td>\n",
       "      <td>01-07-1910</td>\n",
       "      <td>Barrister</td>\n",
       "      <td>60000</td>\n",
       "    </tr>\n",
       "    <tr>\n",
       "      <th>3</th>\n",
       "      <td>54</td>\n",
       "      <td>Ed71DcfaBFd0beE</td>\n",
       "      <td>Robyn</td>\n",
       "      <td>Reilly</td>\n",
       "      <td>Male</td>\n",
       "      <td>carriecrawford@example.org</td>\n",
       "      <td>207.797.8345x6177</td>\n",
       "      <td>27-07-1982</td>\n",
       "      <td>Engineer, structural</td>\n",
       "      <td>100000</td>\n",
       "    </tr>\n",
       "    <tr>\n",
       "      <th>4</th>\n",
       "      <td>55</td>\n",
       "      <td>FDaFD0c3f5387EC</td>\n",
       "      <td>Christina</td>\n",
       "      <td>Conrad</td>\n",
       "      <td>Male</td>\n",
       "      <td>fuentesclaudia@example.net</td>\n",
       "      <td>001-599-042-7428x143</td>\n",
       "      <td>06-01-1998</td>\n",
       "      <td>Producer, radio</td>\n",
       "      <td>50000</td>\n",
       "    </tr>\n",
       "    <tr>\n",
       "      <th>...</th>\n",
       "      <td>...</td>\n",
       "      <td>...</td>\n",
       "      <td>...</td>\n",
       "      <td>...</td>\n",
       "      <td>...</td>\n",
       "      <td>...</td>\n",
       "      <td>...</td>\n",
       "      <td>...</td>\n",
       "      <td>...</td>\n",
       "      <td>...</td>\n",
       "    </tr>\n",
       "    <tr>\n",
       "      <th>945</th>\n",
       "      <td>996</td>\n",
       "      <td>fedF4c7Fd9e7cFa</td>\n",
       "      <td>Kurt</td>\n",
       "      <td>Bryant</td>\n",
       "      <td>Female</td>\n",
       "      <td>lyonsdaisy@example.net</td>\n",
       "      <td>021.775.2933</td>\n",
       "      <td>05-01-1959</td>\n",
       "      <td>Personnel officer</td>\n",
       "      <td>90000</td>\n",
       "    </tr>\n",
       "    <tr>\n",
       "      <th>946</th>\n",
       "      <td>997</td>\n",
       "      <td>ECddaFEDdEc4FAB</td>\n",
       "      <td>Donna</td>\n",
       "      <td>Barry</td>\n",
       "      <td>Female</td>\n",
       "      <td>dariusbryan@example.com</td>\n",
       "      <td>001-149-710-7799x721</td>\n",
       "      <td>06-10-2001</td>\n",
       "      <td>Education administrator</td>\n",
       "      <td>50000</td>\n",
       "    </tr>\n",
       "    <tr>\n",
       "      <th>947</th>\n",
       "      <td>998</td>\n",
       "      <td>2adde51d8B8979E</td>\n",
       "      <td>Cathy</td>\n",
       "      <td>Mckinney</td>\n",
       "      <td>Female</td>\n",
       "      <td>georgechan@example.org</td>\n",
       "      <td>+1-750-774-4128x33265</td>\n",
       "      <td>13-05-1918</td>\n",
       "      <td>Commercial/residential surveyor</td>\n",
       "      <td>60000</td>\n",
       "    </tr>\n",
       "    <tr>\n",
       "      <th>948</th>\n",
       "      <td>999</td>\n",
       "      <td>Fb2FE369D1E171A</td>\n",
       "      <td>Jermaine</td>\n",
       "      <td>Phelps</td>\n",
       "      <td>Male</td>\n",
       "      <td>wanda04@example.net</td>\n",
       "      <td>(915)292-2254</td>\n",
       "      <td>31-08-1971</td>\n",
       "      <td>Ambulance person</td>\n",
       "      <td>100000</td>\n",
       "    </tr>\n",
       "    <tr>\n",
       "      <th>949</th>\n",
       "      <td>1000</td>\n",
       "      <td>8b756f6231DDC6e</td>\n",
       "      <td>Lee</td>\n",
       "      <td>Tran</td>\n",
       "      <td>Female</td>\n",
       "      <td>deannablack@example.org</td>\n",
       "      <td>079.752.5424x67259</td>\n",
       "      <td>24-01-1947</td>\n",
       "      <td>Nurse, learning disability</td>\n",
       "      <td>90000</td>\n",
       "    </tr>\n",
       "  </tbody>\n",
       "</table>\n",
       "<p>950 rows × 10 columns</p>\n",
       "</div>"
      ],
      "text/plain": [
       "       50  afF3018e9cdd1dA     George    Mercer  Female  \\\n",
       "0      51  CccE5DAb6E288e5         Jo    Zavala    Male   \n",
       "1      52  DfBDc3621D4bcec     Joshua     Carey  Female   \n",
       "2      53  f55b0A249f5E44D     Rickey     Hobbs  Female   \n",
       "3      54  Ed71DcfaBFd0beE      Robyn    Reilly    Male   \n",
       "4      55  FDaFD0c3f5387EC  Christina    Conrad    Male   \n",
       "..    ...              ...        ...       ...     ...   \n",
       "945   996  fedF4c7Fd9e7cFa       Kurt    Bryant  Female   \n",
       "946   997  ECddaFEDdEc4FAB      Donna     Barry  Female   \n",
       "947   998  2adde51d8B8979E      Cathy  Mckinney  Female   \n",
       "948   999  Fb2FE369D1E171A   Jermaine    Phelps    Male   \n",
       "949  1000  8b756f6231DDC6e        Lee      Tran  Female   \n",
       "\n",
       "    douglascontreras@example.net    +1-326-669-0118x4341  11-09-1941  \\\n",
       "0           pamela64@example.net  001-859-448-9935x54536  23-11-1992   \n",
       "1      dianashepherd@example.net    001-274-739-8470x814  07-01-1915   \n",
       "2      ingramtiffany@example.org        241.179.9509x498  01-07-1910   \n",
       "3     carriecrawford@example.org       207.797.8345x6177  27-07-1982   \n",
       "4     fuentesclaudia@example.net    001-599-042-7428x143  06-01-1998   \n",
       "..                           ...                     ...         ...   \n",
       "945       lyonsdaisy@example.net            021.775.2933  05-01-1959   \n",
       "946      dariusbryan@example.com    001-149-710-7799x721  06-10-2001   \n",
       "947       georgechan@example.org   +1-750-774-4128x33265  13-05-1918   \n",
       "948          wanda04@example.net           (915)292-2254  31-08-1971   \n",
       "949      deannablack@example.org      079.752.5424x67259  24-01-1947   \n",
       "\n",
       "             Human resources officer   70000  \n",
       "0                       Nurse, adult   80000  \n",
       "1                Seismic interpreter   70000  \n",
       "2                          Barrister   60000  \n",
       "3               Engineer, structural  100000  \n",
       "4                    Producer, radio   50000  \n",
       "..                               ...     ...  \n",
       "945                Personnel officer   90000  \n",
       "946          Education administrator   50000  \n",
       "947  Commercial/residential surveyor   60000  \n",
       "948                 Ambulance person  100000  \n",
       "949       Nurse, learning disability   90000  \n",
       "\n",
       "[950 rows x 10 columns]"
      ]
     },
     "execution_count": 37,
     "metadata": {},
     "output_type": "execute_result"
    }
   ],
   "source": [
    "#for skipping 50 rows\n",
    "df_skip50=pd.read_csv('People Data.csv',skiprows=50)\n",
    "df_skip50"
   ]
  },
  {
   "cell_type": "code",
   "execution_count": 43,
   "id": "b86ee180-8e64-49c0-a0d6-f2e03e62a096",
   "metadata": {},
   "outputs": [
    {
     "data": {
      "text/html": [
       "<div>\n",
       "<style scoped>\n",
       "    .dataframe tbody tr th:only-of-type {\n",
       "        vertical-align: middle;\n",
       "    }\n",
       "\n",
       "    .dataframe tbody tr th {\n",
       "        vertical-align: top;\n",
       "    }\n",
       "\n",
       "    .dataframe thead th {\n",
       "        text-align: right;\n",
       "    }\n",
       "</style>\n",
       "<table border=\"1\" class=\"dataframe\">\n",
       "  <thead>\n",
       "    <tr style=\"text-align: right;\">\n",
       "      <th></th>\n",
       "      <th>Last Name</th>\n",
       "      <th>Gender</th>\n",
       "      <th>Email</th>\n",
       "      <th>Phone</th>\n",
       "      <th>Salary</th>\n",
       "    </tr>\n",
       "  </thead>\n",
       "  <tbody>\n",
       "    <tr>\n",
       "      <th>0</th>\n",
       "      <td>Mahoney</td>\n",
       "      <td>Male</td>\n",
       "      <td>pwarner@example.org</td>\n",
       "      <td>857.139.8239</td>\n",
       "      <td>90000</td>\n",
       "    </tr>\n",
       "    <tr>\n",
       "      <th>1</th>\n",
       "      <td>Rivers</td>\n",
       "      <td>Female</td>\n",
       "      <td>fergusonkatherine@example.net</td>\n",
       "      <td>NaN</td>\n",
       "      <td>80000</td>\n",
       "    </tr>\n",
       "    <tr>\n",
       "      <th>2</th>\n",
       "      <td>Lowery</td>\n",
       "      <td>Female</td>\n",
       "      <td>fhoward@example.org</td>\n",
       "      <td>(599)782-0605</td>\n",
       "      <td>50000</td>\n",
       "    </tr>\n",
       "    <tr>\n",
       "      <th>3</th>\n",
       "      <td>Hooper</td>\n",
       "      <td>Male</td>\n",
       "      <td>zjohnston@example.com</td>\n",
       "      <td>NaN</td>\n",
       "      <td>65000</td>\n",
       "    </tr>\n",
       "    <tr>\n",
       "      <th>4</th>\n",
       "      <td>Rice</td>\n",
       "      <td>Female</td>\n",
       "      <td>elin@example.net</td>\n",
       "      <td>(390)417-1635x3010</td>\n",
       "      <td>100000</td>\n",
       "    </tr>\n",
       "    <tr>\n",
       "      <th>...</th>\n",
       "      <td>...</td>\n",
       "      <td>...</td>\n",
       "      <td>...</td>\n",
       "      <td>...</td>\n",
       "      <td>...</td>\n",
       "    </tr>\n",
       "    <tr>\n",
       "      <th>995</th>\n",
       "      <td>Bryant</td>\n",
       "      <td>Female</td>\n",
       "      <td>lyonsdaisy@example.net</td>\n",
       "      <td>021.775.2933</td>\n",
       "      <td>90000</td>\n",
       "    </tr>\n",
       "    <tr>\n",
       "      <th>996</th>\n",
       "      <td>Barry</td>\n",
       "      <td>Female</td>\n",
       "      <td>dariusbryan@example.com</td>\n",
       "      <td>001-149-710-7799x721</td>\n",
       "      <td>50000</td>\n",
       "    </tr>\n",
       "    <tr>\n",
       "      <th>997</th>\n",
       "      <td>Mckinney</td>\n",
       "      <td>Female</td>\n",
       "      <td>georgechan@example.org</td>\n",
       "      <td>+1-750-774-4128x33265</td>\n",
       "      <td>60000</td>\n",
       "    </tr>\n",
       "    <tr>\n",
       "      <th>998</th>\n",
       "      <td>Phelps</td>\n",
       "      <td>Male</td>\n",
       "      <td>wanda04@example.net</td>\n",
       "      <td>(915)292-2254</td>\n",
       "      <td>100000</td>\n",
       "    </tr>\n",
       "    <tr>\n",
       "      <th>999</th>\n",
       "      <td>Tran</td>\n",
       "      <td>Female</td>\n",
       "      <td>deannablack@example.org</td>\n",
       "      <td>079.752.5424x67259</td>\n",
       "      <td>90000</td>\n",
       "    </tr>\n",
       "  </tbody>\n",
       "</table>\n",
       "<p>1000 rows × 5 columns</p>\n",
       "</div>"
      ],
      "text/plain": [
       "    Last Name  Gender                          Email                  Phone  \\\n",
       "0     Mahoney    Male            pwarner@example.org           857.139.8239   \n",
       "1      Rivers  Female  fergusonkatherine@example.net                    NaN   \n",
       "2      Lowery  Female            fhoward@example.org          (599)782-0605   \n",
       "3      Hooper    Male          zjohnston@example.com                    NaN   \n",
       "4        Rice  Female               elin@example.net     (390)417-1635x3010   \n",
       "..        ...     ...                            ...                    ...   \n",
       "995    Bryant  Female         lyonsdaisy@example.net           021.775.2933   \n",
       "996     Barry  Female        dariusbryan@example.com   001-149-710-7799x721   \n",
       "997  Mckinney  Female         georgechan@example.org  +1-750-774-4128x33265   \n",
       "998    Phelps    Male            wanda04@example.net          (915)292-2254   \n",
       "999      Tran  Female        deannablack@example.org     079.752.5424x67259   \n",
       "\n",
       "     Salary  \n",
       "0     90000  \n",
       "1     80000  \n",
       "2     50000  \n",
       "3     65000  \n",
       "4    100000  \n",
       "..      ...  \n",
       "995   90000  \n",
       "996   50000  \n",
       "997   60000  \n",
       "998  100000  \n",
       "999   90000  \n",
       "\n",
       "[1000 rows x 5 columns]"
      ]
     },
     "execution_count": 43,
     "metadata": {},
     "output_type": "execute_result"
    }
   ],
   "source": [
    "#b) Only read the columns: 'Last Name', ‘Gender’,’Email’,‘Phone’ and ‘Salary’ from the file\n",
    "df=pd.read_csv('People Data.csv',usecols=['Last Name','Gender','Email','Phone','Salary'])\n",
    "df"
   ]
  },
  {
   "cell_type": "code",
   "execution_count": 46,
   "id": "343983fe-a7f0-4bdc-8645-099a256ba738",
   "metadata": {},
   "outputs": [
    {
     "data": {
      "text/html": [
       "<div>\n",
       "<style scoped>\n",
       "    .dataframe tbody tr th:only-of-type {\n",
       "        vertical-align: middle;\n",
       "    }\n",
       "\n",
       "    .dataframe tbody tr th {\n",
       "        vertical-align: top;\n",
       "    }\n",
       "\n",
       "    .dataframe thead th {\n",
       "        text-align: right;\n",
       "    }\n",
       "</style>\n",
       "<table border=\"1\" class=\"dataframe\">\n",
       "  <thead>\n",
       "    <tr style=\"text-align: right;\">\n",
       "      <th></th>\n",
       "      <th>Index</th>\n",
       "      <th>User Id</th>\n",
       "      <th>First Name</th>\n",
       "      <th>Last Name</th>\n",
       "      <th>Gender</th>\n",
       "      <th>Email</th>\n",
       "      <th>Phone</th>\n",
       "      <th>Date of birth</th>\n",
       "      <th>Job Title</th>\n",
       "      <th>Salary</th>\n",
       "    </tr>\n",
       "  </thead>\n",
       "  <tbody>\n",
       "    <tr>\n",
       "      <th>0</th>\n",
       "      <td>1</td>\n",
       "      <td>8717bbf45cCDbEe</td>\n",
       "      <td>Shelia</td>\n",
       "      <td>Mahoney</td>\n",
       "      <td>Male</td>\n",
       "      <td>pwarner@example.org</td>\n",
       "      <td>857.139.8239</td>\n",
       "      <td>27-01-2014</td>\n",
       "      <td>Probation officer</td>\n",
       "      <td>90000</td>\n",
       "    </tr>\n",
       "    <tr>\n",
       "      <th>1</th>\n",
       "      <td>2</td>\n",
       "      <td>3d5AD30A4cD38ed</td>\n",
       "      <td>Jo</td>\n",
       "      <td>Rivers</td>\n",
       "      <td>Female</td>\n",
       "      <td>fergusonkatherine@example.net</td>\n",
       "      <td>NaN</td>\n",
       "      <td>26-07-1931</td>\n",
       "      <td>Dancer</td>\n",
       "      <td>80000</td>\n",
       "    </tr>\n",
       "    <tr>\n",
       "      <th>2</th>\n",
       "      <td>3</td>\n",
       "      <td>810Ce0F276Badec</td>\n",
       "      <td>Sheryl</td>\n",
       "      <td>Lowery</td>\n",
       "      <td>Female</td>\n",
       "      <td>fhoward@example.org</td>\n",
       "      <td>(599)782-0605</td>\n",
       "      <td>25-11-2013</td>\n",
       "      <td>Copy</td>\n",
       "      <td>50000</td>\n",
       "    </tr>\n",
       "    <tr>\n",
       "      <th>3</th>\n",
       "      <td>4</td>\n",
       "      <td>BF2a889C00f0cE1</td>\n",
       "      <td>Whitney</td>\n",
       "      <td>Hooper</td>\n",
       "      <td>Male</td>\n",
       "      <td>zjohnston@example.com</td>\n",
       "      <td>NaN</td>\n",
       "      <td>17-11-2012</td>\n",
       "      <td>Counselling psychologist</td>\n",
       "      <td>65000</td>\n",
       "    </tr>\n",
       "    <tr>\n",
       "      <th>4</th>\n",
       "      <td>5</td>\n",
       "      <td>9afFEafAe1CBBB9</td>\n",
       "      <td>Lindsey</td>\n",
       "      <td>Rice</td>\n",
       "      <td>Female</td>\n",
       "      <td>elin@example.net</td>\n",
       "      <td>(390)417-1635x3010</td>\n",
       "      <td>15-04-1923</td>\n",
       "      <td>Biomedical engineer</td>\n",
       "      <td>100000</td>\n",
       "    </tr>\n",
       "    <tr>\n",
       "      <th>5</th>\n",
       "      <td>6</td>\n",
       "      <td>aF75e6dDEBC5b66</td>\n",
       "      <td>Sherry</td>\n",
       "      <td>Caldwell</td>\n",
       "      <td>Male</td>\n",
       "      <td>kaitlin13@example.net</td>\n",
       "      <td>8537800927</td>\n",
       "      <td>06-08-1917</td>\n",
       "      <td>Higher education lecturer</td>\n",
       "      <td>50000</td>\n",
       "    </tr>\n",
       "    <tr>\n",
       "      <th>6</th>\n",
       "      <td>7</td>\n",
       "      <td>efeb05c7Cc94EA3</td>\n",
       "      <td>Ernest</td>\n",
       "      <td>Hoffman</td>\n",
       "      <td>Male</td>\n",
       "      <td>jeffharvey@example.com</td>\n",
       "      <td>093.655.7480x7895</td>\n",
       "      <td>22-12-1984</td>\n",
       "      <td>Health visitor</td>\n",
       "      <td>60000</td>\n",
       "    </tr>\n",
       "    <tr>\n",
       "      <th>7</th>\n",
       "      <td>8</td>\n",
       "      <td>fb1BF3FED57E9d7</td>\n",
       "      <td>Doris</td>\n",
       "      <td>Andersen</td>\n",
       "      <td>Male</td>\n",
       "      <td>alicia33@example.org</td>\n",
       "      <td>4709522945</td>\n",
       "      <td>02-12-2016</td>\n",
       "      <td>Air broker</td>\n",
       "      <td>65000</td>\n",
       "    </tr>\n",
       "    <tr>\n",
       "      <th>8</th>\n",
       "      <td>9</td>\n",
       "      <td>421fAB9a3b98F30</td>\n",
       "      <td>Cheryl</td>\n",
       "      <td>Mays</td>\n",
       "      <td>Male</td>\n",
       "      <td>jake50@example.com</td>\n",
       "      <td>013.820.4758</td>\n",
       "      <td>16-12-2012</td>\n",
       "      <td>Designer, multimedia</td>\n",
       "      <td>50000</td>\n",
       "    </tr>\n",
       "    <tr>\n",
       "      <th>9</th>\n",
       "      <td>10</td>\n",
       "      <td>4A42Fe10dB717CB</td>\n",
       "      <td>Harry</td>\n",
       "      <td>Mitchell</td>\n",
       "      <td>Male</td>\n",
       "      <td>lanechristina@example.net</td>\n",
       "      <td>(560)903-5068x4985</td>\n",
       "      <td>29-06-1953</td>\n",
       "      <td>Insurance account manager</td>\n",
       "      <td>50000</td>\n",
       "    </tr>\n",
       "  </tbody>\n",
       "</table>\n",
       "</div>"
      ],
      "text/plain": [
       "   Index          User Id First Name Last Name  Gender  \\\n",
       "0      1  8717bbf45cCDbEe     Shelia   Mahoney    Male   \n",
       "1      2  3d5AD30A4cD38ed         Jo    Rivers  Female   \n",
       "2      3  810Ce0F276Badec     Sheryl    Lowery  Female   \n",
       "3      4  BF2a889C00f0cE1    Whitney    Hooper    Male   \n",
       "4      5  9afFEafAe1CBBB9    Lindsey      Rice  Female   \n",
       "5      6  aF75e6dDEBC5b66     Sherry  Caldwell    Male   \n",
       "6      7  efeb05c7Cc94EA3     Ernest   Hoffman    Male   \n",
       "7      8  fb1BF3FED57E9d7      Doris  Andersen    Male   \n",
       "8      9  421fAB9a3b98F30     Cheryl      Mays    Male   \n",
       "9     10  4A42Fe10dB717CB      Harry  Mitchell    Male   \n",
       "\n",
       "                           Email               Phone Date of birth  \\\n",
       "0            pwarner@example.org        857.139.8239    27-01-2014   \n",
       "1  fergusonkatherine@example.net                 NaN    26-07-1931   \n",
       "2            fhoward@example.org       (599)782-0605    25-11-2013   \n",
       "3          zjohnston@example.com                 NaN    17-11-2012   \n",
       "4               elin@example.net  (390)417-1635x3010    15-04-1923   \n",
       "5          kaitlin13@example.net          8537800927    06-08-1917   \n",
       "6         jeffharvey@example.com   093.655.7480x7895    22-12-1984   \n",
       "7           alicia33@example.org          4709522945    02-12-2016   \n",
       "8             jake50@example.com        013.820.4758    16-12-2012   \n",
       "9      lanechristina@example.net  (560)903-5068x4985    29-06-1953   \n",
       "\n",
       "                   Job Title  Salary  \n",
       "0          Probation officer   90000  \n",
       "1                     Dancer   80000  \n",
       "2                       Copy   50000  \n",
       "3   Counselling psychologist   65000  \n",
       "4        Biomedical engineer  100000  \n",
       "5  Higher education lecturer   50000  \n",
       "6             Health visitor   60000  \n",
       "7                 Air broker   65000  \n",
       "8       Designer, multimedia   50000  \n",
       "9  Insurance account manager   50000  "
      ]
     },
     "execution_count": 46,
     "metadata": {},
     "output_type": "execute_result"
    }
   ],
   "source": [
    "#c) Display the first 10 rows of the filtered dataset.\n",
    "\n",
    "df=pd.read_csv('People Data.csv',nrows=10)\n",
    "df"
   ]
  },
  {
   "cell_type": "code",
   "execution_count": 53,
   "id": "74428c69-8de9-461e-9644-94b5a23171bf",
   "metadata": {},
   "outputs": [
    {
     "data": {
      "text/html": [
       "<div>\n",
       "<style scoped>\n",
       "    .dataframe tbody tr th:only-of-type {\n",
       "        vertical-align: middle;\n",
       "    }\n",
       "\n",
       "    .dataframe tbody tr th {\n",
       "        vertical-align: top;\n",
       "    }\n",
       "\n",
       "    .dataframe thead th {\n",
       "        text-align: right;\n",
       "    }\n",
       "</style>\n",
       "<table border=\"1\" class=\"dataframe\">\n",
       "  <thead>\n",
       "    <tr style=\"text-align: right;\">\n",
       "      <th></th>\n",
       "      <th>Salary</th>\n",
       "    </tr>\n",
       "  </thead>\n",
       "  <tbody>\n",
       "    <tr>\n",
       "      <th>995</th>\n",
       "      <td>90000</td>\n",
       "    </tr>\n",
       "    <tr>\n",
       "      <th>996</th>\n",
       "      <td>50000</td>\n",
       "    </tr>\n",
       "    <tr>\n",
       "      <th>997</th>\n",
       "      <td>60000</td>\n",
       "    </tr>\n",
       "    <tr>\n",
       "      <th>998</th>\n",
       "      <td>100000</td>\n",
       "    </tr>\n",
       "    <tr>\n",
       "      <th>999</th>\n",
       "      <td>90000</td>\n",
       "    </tr>\n",
       "  </tbody>\n",
       "</table>\n",
       "</div>"
      ],
      "text/plain": [
       "     Salary\n",
       "995   90000\n",
       "996   50000\n",
       "997   60000\n",
       "998  100000\n",
       "999   90000"
      ]
     },
     "execution_count": 53,
     "metadata": {},
     "output_type": "execute_result"
    }
   ],
   "source": [
    "#d) Extract the ‘Salary’' column as a Series and display its last 5 valuesX\n",
    "\n",
    "df=pd.read_csv('People Data.csv' ,usecols=['Salary']  )\n",
    "df.tail(5)\n",
    "\n"
   ]
  },
  {
   "cell_type": "code",
   "execution_count": null,
   "id": "40a6e17b-67ae-4423-954a-2cd3897d657c",
   "metadata": {},
   "outputs": [],
   "source": [
    "\n",
    "\n",
    "\n",
    "\n",
    "\n",
    "\n",
    "\n",
    "\n",
    "\n",
    "\n",
    "\n",
    "\n",
    "\n",
    "\n",
    "\n",
    "\n",
    "\n",
    "\n",
    "\n"
   ]
  },
  {
   "cell_type": "code",
   "execution_count": 54,
   "id": "14c6eb1f-4424-4504-b70b-c09460760a8d",
   "metadata": {},
   "outputs": [],
   "source": [
    "#question 9\n"
   ]
  },
  {
   "cell_type": "code",
   "execution_count": 1,
   "id": "5826d5ea-131f-4a70-9e43-90c356a7833c",
   "metadata": {},
   "outputs": [],
   "source": [
    " \n",
    "# Filter and select rows from the People_Dataset, where the “Last Name' column contains the name 'DuKe', \n",
    "#'Gender' column contains the word Female and ‘Salary’ should Pe less than 85000"
   ]
  },
  {
   "cell_type": "code",
   "execution_count": 21,
   "id": "89a7f2b5-dfbf-4888-9c09-6281a7188343",
   "metadata": {},
   "outputs": [
    {
     "data": {
      "text/html": [
       "<div>\n",
       "<style scoped>\n",
       "    .dataframe tbody tr th:only-of-type {\n",
       "        vertical-align: middle;\n",
       "    }\n",
       "\n",
       "    .dataframe tbody tr th {\n",
       "        vertical-align: top;\n",
       "    }\n",
       "\n",
       "    .dataframe thead th {\n",
       "        text-align: right;\n",
       "    }\n",
       "</style>\n",
       "<table border=\"1\" class=\"dataframe\">\n",
       "  <thead>\n",
       "    <tr style=\"text-align: right;\">\n",
       "      <th></th>\n",
       "      <th>Index</th>\n",
       "      <th>User Id</th>\n",
       "      <th>First Name</th>\n",
       "      <th>Last Name</th>\n",
       "      <th>Gender</th>\n",
       "      <th>Email</th>\n",
       "      <th>Phone</th>\n",
       "      <th>Date of birth</th>\n",
       "      <th>Job Title</th>\n",
       "      <th>Salary</th>\n",
       "    </tr>\n",
       "  </thead>\n",
       "  <tbody>\n",
       "    <tr>\n",
       "      <th>45</th>\n",
       "      <td>46</td>\n",
       "      <td>99A502C175C4EBd</td>\n",
       "      <td>Olivia</td>\n",
       "      <td>Duke</td>\n",
       "      <td>Female</td>\n",
       "      <td>diana26@example.net</td>\n",
       "      <td>001-366-475-8607x04350</td>\n",
       "      <td>13-10-1934</td>\n",
       "      <td>Dentist</td>\n",
       "      <td>60000</td>\n",
       "    </tr>\n",
       "    <tr>\n",
       "      <th>210</th>\n",
       "      <td>211</td>\n",
       "      <td>DF17975CC0a0373</td>\n",
       "      <td>Katrina</td>\n",
       "      <td>Duke</td>\n",
       "      <td>Female</td>\n",
       "      <td>robin78@example.com</td>\n",
       "      <td>740.434.0212</td>\n",
       "      <td>21-09-1935</td>\n",
       "      <td>Producer, radio</td>\n",
       "      <td>50000</td>\n",
       "    </tr>\n",
       "    <tr>\n",
       "      <th>457</th>\n",
       "      <td>458</td>\n",
       "      <td>dcE1B7DE83c1076</td>\n",
       "      <td>Traci</td>\n",
       "      <td>Duke</td>\n",
       "      <td>Female</td>\n",
       "      <td>perryhoffman@example.org</td>\n",
       "      <td>+1-903-596-0995x489</td>\n",
       "      <td>11-02-1997</td>\n",
       "      <td>Herbalist</td>\n",
       "      <td>50000</td>\n",
       "    </tr>\n",
       "    <tr>\n",
       "      <th>729</th>\n",
       "      <td>730</td>\n",
       "      <td>c9b482D7aa3e682</td>\n",
       "      <td>Lonnie</td>\n",
       "      <td>Duke</td>\n",
       "      <td>Female</td>\n",
       "      <td>kevinkramer@example.net</td>\n",
       "      <td>982.692.6257</td>\n",
       "      <td>12-05-2015</td>\n",
       "      <td>Nurse, adult</td>\n",
       "      <td>70000</td>\n",
       "    </tr>\n",
       "  </tbody>\n",
       "</table>\n",
       "</div>"
      ],
      "text/plain": [
       "     Index          User Id First Name Last Name  Gender  \\\n",
       "45      46  99A502C175C4EBd     Olivia      Duke  Female   \n",
       "210    211  DF17975CC0a0373    Katrina      Duke  Female   \n",
       "457    458  dcE1B7DE83c1076      Traci      Duke  Female   \n",
       "729    730  c9b482D7aa3e682     Lonnie      Duke  Female   \n",
       "\n",
       "                        Email                   Phone Date of birth  \\\n",
       "45        diana26@example.net  001-366-475-8607x04350    13-10-1934   \n",
       "210       robin78@example.com            740.434.0212    21-09-1935   \n",
       "457  perryhoffman@example.org     +1-903-596-0995x489    11-02-1997   \n",
       "729   kevinkramer@example.net            982.692.6257    12-05-2015   \n",
       "\n",
       "           Job Title  Salary  \n",
       "45           Dentist   60000  \n",
       "210  Producer, radio   50000  \n",
       "457        Herbalist   50000  \n",
       "729     Nurse, adult   70000  "
      ]
     },
     "execution_count": 21,
     "metadata": {},
     "output_type": "execute_result"
    }
   ],
   "source": [
    "import pandas as pd\n",
    "#READ DATA SET\n",
    "df=pd.read_csv('People Data.csv')\n",
    "\n",
    "row=df[(df['Last Name'].str.contains('Duke'))   &(df['Gender']==('Female'))   &(df['Salary']<85000)]\n",
    "\n",
    "row\n",
    "                                             "
   ]
  },
  {
   "cell_type": "code",
   "execution_count": null,
   "id": "359486de-3478-467d-9ead-990039dd6acd",
   "metadata": {},
   "outputs": [],
   "source": [
    "\n",
    "\n",
    "\n",
    "\n",
    "\n",
    "\n",
    "\n",
    "\n",
    "\n",
    "\n",
    "\n",
    "\n",
    "\n",
    "\n",
    "\n",
    "\n"
   ]
  },
  {
   "cell_type": "code",
   "execution_count": 22,
   "id": "5bef74b0-42e8-4da3-9279-2be60cdd2f42",
   "metadata": {},
   "outputs": [],
   "source": [
    "#QUESTION 10"
   ]
  },
  {
   "cell_type": "code",
   "execution_count": 23,
   "id": "018d922f-254a-40ec-baf5-159238df9b5c",
   "metadata": {},
   "outputs": [],
   "source": [
    "#Create a 7*5 Dataframe in Pandas using a series generated from 35 random integers Petween 1 to 6)?"
   ]
  },
  {
   "cell_type": "code",
   "execution_count": 28,
   "id": "cf206fd3-0559-409f-a232-16f152142645",
   "metadata": {},
   "outputs": [
    {
     "data": {
      "text/html": [
       "<div>\n",
       "<style scoped>\n",
       "    .dataframe tbody tr th:only-of-type {\n",
       "        vertical-align: middle;\n",
       "    }\n",
       "\n",
       "    .dataframe tbody tr th {\n",
       "        vertical-align: top;\n",
       "    }\n",
       "\n",
       "    .dataframe thead th {\n",
       "        text-align: right;\n",
       "    }\n",
       "</style>\n",
       "<table border=\"1\" class=\"dataframe\">\n",
       "  <thead>\n",
       "    <tr style=\"text-align: right;\">\n",
       "      <th></th>\n",
       "      <th>0</th>\n",
       "      <th>1</th>\n",
       "      <th>2</th>\n",
       "      <th>3</th>\n",
       "      <th>4</th>\n",
       "    </tr>\n",
       "  </thead>\n",
       "  <tbody>\n",
       "    <tr>\n",
       "      <th>0</th>\n",
       "      <td>6</td>\n",
       "      <td>4</td>\n",
       "      <td>3</td>\n",
       "      <td>3</td>\n",
       "      <td>4</td>\n",
       "    </tr>\n",
       "    <tr>\n",
       "      <th>1</th>\n",
       "      <td>2</td>\n",
       "      <td>3</td>\n",
       "      <td>4</td>\n",
       "      <td>1</td>\n",
       "      <td>3</td>\n",
       "    </tr>\n",
       "    <tr>\n",
       "      <th>2</th>\n",
       "      <td>5</td>\n",
       "      <td>3</td>\n",
       "      <td>4</td>\n",
       "      <td>4</td>\n",
       "      <td>1</td>\n",
       "    </tr>\n",
       "    <tr>\n",
       "      <th>3</th>\n",
       "      <td>5</td>\n",
       "      <td>2</td>\n",
       "      <td>3</td>\n",
       "      <td>3</td>\n",
       "      <td>2</td>\n",
       "    </tr>\n",
       "    <tr>\n",
       "      <th>4</th>\n",
       "      <td>4</td>\n",
       "      <td>1</td>\n",
       "      <td>6</td>\n",
       "      <td>2</td>\n",
       "      <td>3</td>\n",
       "    </tr>\n",
       "    <tr>\n",
       "      <th>5</th>\n",
       "      <td>2</td>\n",
       "      <td>5</td>\n",
       "      <td>1</td>\n",
       "      <td>6</td>\n",
       "      <td>3</td>\n",
       "    </tr>\n",
       "    <tr>\n",
       "      <th>6</th>\n",
       "      <td>6</td>\n",
       "      <td>2</td>\n",
       "      <td>5</td>\n",
       "      <td>4</td>\n",
       "      <td>4</td>\n",
       "    </tr>\n",
       "  </tbody>\n",
       "</table>\n",
       "</div>"
      ],
      "text/plain": [
       "   0  1  2  3  4\n",
       "0  6  4  3  3  4\n",
       "1  2  3  4  1  3\n",
       "2  5  3  4  4  1\n",
       "3  5  2  3  3  2\n",
       "4  4  1  6  2  3\n",
       "5  2  5  1  6  3\n",
       "6  6  2  5  4  4"
      ]
     },
     "execution_count": 28,
     "metadata": {},
     "output_type": "execute_result"
    }
   ],
   "source": [
    "import numpy as np\n",
    "import pandas as pd\n",
    "\n",
    "#generate a random array between 1 to 6\n",
    "arr=np.random.randint(1,7, 35)\n",
    "\n",
    "series=pd.Series(arr)\n",
    "\n",
    "data_frame = pd.DataFrame(series.values.reshape(7,5))\n",
    "\n",
    "data_frame"
   ]
  },
  {
   "cell_type": "code",
   "execution_count": null,
   "id": "65d3de53-dacd-42aa-8433-d274f40e2e43",
   "metadata": {},
   "outputs": [],
   "source": [
    "\n",
    "\n",
    "\n",
    "\n",
    "\n",
    "\n",
    "\n",
    "\n",
    "\n",
    "\n",
    "\n",
    "\n",
    "\n"
   ]
  },
  {
   "cell_type": "code",
   "execution_count": 1,
   "id": "edf649c3-b932-462a-8c4d-e3edc3029c8f",
   "metadata": {},
   "outputs": [],
   "source": [
    "#QUESTION 11\n"
   ]
  },
  {
   "cell_type": "code",
   "execution_count": 7,
   "id": "057fb69a-b5b1-43b1-89c7-d9a73086d5a5",
   "metadata": {},
   "outputs": [
    {
     "data": {
      "text/plain": [
       "0     27\n",
       "1     19\n",
       "2     19\n",
       "3     38\n",
       "4     43\n",
       "5     40\n",
       "6     14\n",
       "7     46\n",
       "8     18\n",
       "9     45\n",
       "10    41\n",
       "11    29\n",
       "12    30\n",
       "13    45\n",
       "14    17\n",
       "15    35\n",
       "16    26\n",
       "17    26\n",
       "18    10\n",
       "19    39\n",
       "20    47\n",
       "21    32\n",
       "22    39\n",
       "23    41\n",
       "24    17\n",
       "25    42\n",
       "26    37\n",
       "27    35\n",
       "28    42\n",
       "29    13\n",
       "30    37\n",
       "31    42\n",
       "32    23\n",
       "33    13\n",
       "34    30\n",
       "35    24\n",
       "36    14\n",
       "37    39\n",
       "38    25\n",
       "39    30\n",
       "40    31\n",
       "41    33\n",
       "42    43\n",
       "43    50\n",
       "44    25\n",
       "45    11\n",
       "46    23\n",
       "47    13\n",
       "48    45\n",
       "49    22\n",
       "Name: col1, dtype: int64"
      ]
     },
     "execution_count": 7,
     "metadata": {},
     "output_type": "execute_result"
    }
   ],
   "source": [
    "#Create two different Series, each of length 50, with the following criteria:\n",
    "\n",
    "\n",
    "#a) The first Series should contain random numbers ranging from 10 to 50\n",
    "\n",
    "import numpy as np\n",
    "import pandas as pd\n",
    "\n",
    "series1=pd.Series(np.random.randint(10,51, size=50) ,name='col1')\n",
    "\n",
    "series1                 \n",
    "                  \n"
   ]
  },
  {
   "cell_type": "code",
   "execution_count": 12,
   "id": "d47d35e9-2e49-4e8e-ba7e-0b5da2bcef99",
   "metadata": {},
   "outputs": [
    {
     "data": {
      "text/plain": [
       "0     133\n",
       "1     785\n",
       "2     836\n",
       "3     852\n",
       "4     568\n",
       "5     711\n",
       "6     586\n",
       "7     774\n",
       "8     546\n",
       "9     532\n",
       "10    379\n",
       "11    295\n",
       "12    614\n",
       "13    281\n",
       "14    140\n",
       "15    861\n",
       "16    488\n",
       "17    470\n",
       "18    272\n",
       "19    198\n",
       "20    636\n",
       "21    469\n",
       "22    291\n",
       "23    760\n",
       "24    673\n",
       "25    647\n",
       "26    898\n",
       "27    581\n",
       "28    555\n",
       "29    653\n",
       "30    487\n",
       "31    857\n",
       "32    974\n",
       "33    650\n",
       "34    939\n",
       "35    658\n",
       "36    748\n",
       "37    813\n",
       "38    660\n",
       "39    772\n",
       "40    614\n",
       "41    855\n",
       "42    140\n",
       "43    585\n",
       "44    641\n",
       "45    516\n",
       "46    399\n",
       "47    626\n",
       "48    886\n",
       "49    173\n",
       "Name: col2, dtype: int64"
      ]
     },
     "execution_count": 12,
     "metadata": {},
     "output_type": "execute_result"
    }
   ],
   "source": [
    "\n",
    "\n",
    "#b) The second Series should contain random numbers ranging from 100 to 1000.\n",
    "\n",
    "import numpy as nnp\n",
    "import pandas as pd\n",
    "\n",
    "arr=np.random.randint(100,1001,size=50)\n",
    "series2=pd.Series(arr,name='col2')\n",
    "series2\n",
    "                 "
   ]
  },
  {
   "cell_type": "code",
   "execution_count": 14,
   "id": "3a0c4dd3-a86e-4977-88bc-e8032b17edea",
   "metadata": {},
   "outputs": [
    {
     "data": {
      "text/html": [
       "<div>\n",
       "<style scoped>\n",
       "    .dataframe tbody tr th:only-of-type {\n",
       "        vertical-align: middle;\n",
       "    }\n",
       "\n",
       "    .dataframe tbody tr th {\n",
       "        vertical-align: top;\n",
       "    }\n",
       "\n",
       "    .dataframe thead th {\n",
       "        text-align: right;\n",
       "    }\n",
       "</style>\n",
       "<table border=\"1\" class=\"dataframe\">\n",
       "  <thead>\n",
       "    <tr style=\"text-align: right;\">\n",
       "      <th></th>\n",
       "      <th>col1</th>\n",
       "      <th>col2</th>\n",
       "    </tr>\n",
       "  </thead>\n",
       "  <tbody>\n",
       "    <tr>\n",
       "      <th>0</th>\n",
       "      <td>27</td>\n",
       "      <td>133</td>\n",
       "    </tr>\n",
       "    <tr>\n",
       "      <th>1</th>\n",
       "      <td>19</td>\n",
       "      <td>785</td>\n",
       "    </tr>\n",
       "    <tr>\n",
       "      <th>2</th>\n",
       "      <td>19</td>\n",
       "      <td>836</td>\n",
       "    </tr>\n",
       "    <tr>\n",
       "      <th>3</th>\n",
       "      <td>38</td>\n",
       "      <td>852</td>\n",
       "    </tr>\n",
       "    <tr>\n",
       "      <th>4</th>\n",
       "      <td>43</td>\n",
       "      <td>568</td>\n",
       "    </tr>\n",
       "    <tr>\n",
       "      <th>5</th>\n",
       "      <td>40</td>\n",
       "      <td>711</td>\n",
       "    </tr>\n",
       "    <tr>\n",
       "      <th>6</th>\n",
       "      <td>14</td>\n",
       "      <td>586</td>\n",
       "    </tr>\n",
       "    <tr>\n",
       "      <th>7</th>\n",
       "      <td>46</td>\n",
       "      <td>774</td>\n",
       "    </tr>\n",
       "    <tr>\n",
       "      <th>8</th>\n",
       "      <td>18</td>\n",
       "      <td>546</td>\n",
       "    </tr>\n",
       "    <tr>\n",
       "      <th>9</th>\n",
       "      <td>45</td>\n",
       "      <td>532</td>\n",
       "    </tr>\n",
       "    <tr>\n",
       "      <th>10</th>\n",
       "      <td>41</td>\n",
       "      <td>379</td>\n",
       "    </tr>\n",
       "    <tr>\n",
       "      <th>11</th>\n",
       "      <td>29</td>\n",
       "      <td>295</td>\n",
       "    </tr>\n",
       "    <tr>\n",
       "      <th>12</th>\n",
       "      <td>30</td>\n",
       "      <td>614</td>\n",
       "    </tr>\n",
       "    <tr>\n",
       "      <th>13</th>\n",
       "      <td>45</td>\n",
       "      <td>281</td>\n",
       "    </tr>\n",
       "    <tr>\n",
       "      <th>14</th>\n",
       "      <td>17</td>\n",
       "      <td>140</td>\n",
       "    </tr>\n",
       "    <tr>\n",
       "      <th>15</th>\n",
       "      <td>35</td>\n",
       "      <td>861</td>\n",
       "    </tr>\n",
       "    <tr>\n",
       "      <th>16</th>\n",
       "      <td>26</td>\n",
       "      <td>488</td>\n",
       "    </tr>\n",
       "    <tr>\n",
       "      <th>17</th>\n",
       "      <td>26</td>\n",
       "      <td>470</td>\n",
       "    </tr>\n",
       "    <tr>\n",
       "      <th>18</th>\n",
       "      <td>10</td>\n",
       "      <td>272</td>\n",
       "    </tr>\n",
       "    <tr>\n",
       "      <th>19</th>\n",
       "      <td>39</td>\n",
       "      <td>198</td>\n",
       "    </tr>\n",
       "    <tr>\n",
       "      <th>20</th>\n",
       "      <td>47</td>\n",
       "      <td>636</td>\n",
       "    </tr>\n",
       "    <tr>\n",
       "      <th>21</th>\n",
       "      <td>32</td>\n",
       "      <td>469</td>\n",
       "    </tr>\n",
       "    <tr>\n",
       "      <th>22</th>\n",
       "      <td>39</td>\n",
       "      <td>291</td>\n",
       "    </tr>\n",
       "    <tr>\n",
       "      <th>23</th>\n",
       "      <td>41</td>\n",
       "      <td>760</td>\n",
       "    </tr>\n",
       "    <tr>\n",
       "      <th>24</th>\n",
       "      <td>17</td>\n",
       "      <td>673</td>\n",
       "    </tr>\n",
       "    <tr>\n",
       "      <th>25</th>\n",
       "      <td>42</td>\n",
       "      <td>647</td>\n",
       "    </tr>\n",
       "    <tr>\n",
       "      <th>26</th>\n",
       "      <td>37</td>\n",
       "      <td>898</td>\n",
       "    </tr>\n",
       "    <tr>\n",
       "      <th>27</th>\n",
       "      <td>35</td>\n",
       "      <td>581</td>\n",
       "    </tr>\n",
       "    <tr>\n",
       "      <th>28</th>\n",
       "      <td>42</td>\n",
       "      <td>555</td>\n",
       "    </tr>\n",
       "    <tr>\n",
       "      <th>29</th>\n",
       "      <td>13</td>\n",
       "      <td>653</td>\n",
       "    </tr>\n",
       "    <tr>\n",
       "      <th>30</th>\n",
       "      <td>37</td>\n",
       "      <td>487</td>\n",
       "    </tr>\n",
       "    <tr>\n",
       "      <th>31</th>\n",
       "      <td>42</td>\n",
       "      <td>857</td>\n",
       "    </tr>\n",
       "    <tr>\n",
       "      <th>32</th>\n",
       "      <td>23</td>\n",
       "      <td>974</td>\n",
       "    </tr>\n",
       "    <tr>\n",
       "      <th>33</th>\n",
       "      <td>13</td>\n",
       "      <td>650</td>\n",
       "    </tr>\n",
       "    <tr>\n",
       "      <th>34</th>\n",
       "      <td>30</td>\n",
       "      <td>939</td>\n",
       "    </tr>\n",
       "    <tr>\n",
       "      <th>35</th>\n",
       "      <td>24</td>\n",
       "      <td>658</td>\n",
       "    </tr>\n",
       "    <tr>\n",
       "      <th>36</th>\n",
       "      <td>14</td>\n",
       "      <td>748</td>\n",
       "    </tr>\n",
       "    <tr>\n",
       "      <th>37</th>\n",
       "      <td>39</td>\n",
       "      <td>813</td>\n",
       "    </tr>\n",
       "    <tr>\n",
       "      <th>38</th>\n",
       "      <td>25</td>\n",
       "      <td>660</td>\n",
       "    </tr>\n",
       "    <tr>\n",
       "      <th>39</th>\n",
       "      <td>30</td>\n",
       "      <td>772</td>\n",
       "    </tr>\n",
       "    <tr>\n",
       "      <th>40</th>\n",
       "      <td>31</td>\n",
       "      <td>614</td>\n",
       "    </tr>\n",
       "    <tr>\n",
       "      <th>41</th>\n",
       "      <td>33</td>\n",
       "      <td>855</td>\n",
       "    </tr>\n",
       "    <tr>\n",
       "      <th>42</th>\n",
       "      <td>43</td>\n",
       "      <td>140</td>\n",
       "    </tr>\n",
       "    <tr>\n",
       "      <th>43</th>\n",
       "      <td>50</td>\n",
       "      <td>585</td>\n",
       "    </tr>\n",
       "    <tr>\n",
       "      <th>44</th>\n",
       "      <td>25</td>\n",
       "      <td>641</td>\n",
       "    </tr>\n",
       "    <tr>\n",
       "      <th>45</th>\n",
       "      <td>11</td>\n",
       "      <td>516</td>\n",
       "    </tr>\n",
       "    <tr>\n",
       "      <th>46</th>\n",
       "      <td>23</td>\n",
       "      <td>399</td>\n",
       "    </tr>\n",
       "    <tr>\n",
       "      <th>47</th>\n",
       "      <td>13</td>\n",
       "      <td>626</td>\n",
       "    </tr>\n",
       "    <tr>\n",
       "      <th>48</th>\n",
       "      <td>45</td>\n",
       "      <td>886</td>\n",
       "    </tr>\n",
       "    <tr>\n",
       "      <th>49</th>\n",
       "      <td>22</td>\n",
       "      <td>173</td>\n",
       "    </tr>\n",
       "  </tbody>\n",
       "</table>\n",
       "</div>"
      ],
      "text/plain": [
       "    col1  col2\n",
       "0     27   133\n",
       "1     19   785\n",
       "2     19   836\n",
       "3     38   852\n",
       "4     43   568\n",
       "5     40   711\n",
       "6     14   586\n",
       "7     46   774\n",
       "8     18   546\n",
       "9     45   532\n",
       "10    41   379\n",
       "11    29   295\n",
       "12    30   614\n",
       "13    45   281\n",
       "14    17   140\n",
       "15    35   861\n",
       "16    26   488\n",
       "17    26   470\n",
       "18    10   272\n",
       "19    39   198\n",
       "20    47   636\n",
       "21    32   469\n",
       "22    39   291\n",
       "23    41   760\n",
       "24    17   673\n",
       "25    42   647\n",
       "26    37   898\n",
       "27    35   581\n",
       "28    42   555\n",
       "29    13   653\n",
       "30    37   487\n",
       "31    42   857\n",
       "32    23   974\n",
       "33    13   650\n",
       "34    30   939\n",
       "35    24   658\n",
       "36    14   748\n",
       "37    39   813\n",
       "38    25   660\n",
       "39    30   772\n",
       "40    31   614\n",
       "41    33   855\n",
       "42    43   140\n",
       "43    50   585\n",
       "44    25   641\n",
       "45    11   516\n",
       "46    23   399\n",
       "47    13   626\n",
       "48    45   886\n",
       "49    22   173"
      ]
     },
     "execution_count": 14,
     "metadata": {},
     "output_type": "execute_result"
    }
   ],
   "source": [
    "data_frame=pd.concat([series1,series2] ,axis=1)\n",
    "data_frame"
   ]
  },
  {
   "cell_type": "code",
   "execution_count": null,
   "id": "e3380234-2813-4793-9a2b-a18caadc45f3",
   "metadata": {},
   "outputs": [],
   "source": [
    "\n",
    "\n",
    "\n",
    "\n",
    "\n",
    "\n",
    "\n",
    "\n",
    "\n",
    "\n",
    "\n",
    "\n",
    "\n",
    "\n",
    "\n",
    "\n",
    "\n",
    "\n",
    "\n",
    "\n",
    "\n",
    "\n",
    "\n"
   ]
  },
  {
   "cell_type": "code",
   "execution_count": 15,
   "id": "72e17481-9d06-4a16-85ea-e6ed672dadda",
   "metadata": {},
   "outputs": [],
   "source": [
    "#QUESTION 12\n"
   ]
  },
  {
   "cell_type": "code",
   "execution_count": 20,
   "id": "ed9d3cb0-e6fd-4e01-8ab1-e6ddcee4b799",
   "metadata": {},
   "outputs": [],
   "source": [
    "#K%g Perform the following operations using people data set:\n",
    "\n",
    "#a) Delete the 'Email', 'Phone', and 'Date of birth' columns from the dataset.\n",
    "\n",
    "import pandas as pd\n",
    "\n",
    "data=pd.read_csv('People Data.csv')\n",
    "\n",
    "data.drop(['Email','Phone','Date of birth'],axis=1,inplace=True)\n",
    "\n",
    "\n",
    "#b) Delete the rows containing any missing values.\n",
    "\n",
    "data.dropna(inplace=True)"
   ]
  },
  {
   "cell_type": "code",
   "execution_count": 21,
   "id": "2c7245da-fa9f-49d5-a304-1af2de3f3d14",
   "metadata": {},
   "outputs": [
    {
     "data": {
      "text/html": [
       "<div>\n",
       "<style scoped>\n",
       "    .dataframe tbody tr th:only-of-type {\n",
       "        vertical-align: middle;\n",
       "    }\n",
       "\n",
       "    .dataframe tbody tr th {\n",
       "        vertical-align: top;\n",
       "    }\n",
       "\n",
       "    .dataframe thead th {\n",
       "        text-align: right;\n",
       "    }\n",
       "</style>\n",
       "<table border=\"1\" class=\"dataframe\">\n",
       "  <thead>\n",
       "    <tr style=\"text-align: right;\">\n",
       "      <th></th>\n",
       "      <th>Index</th>\n",
       "      <th>User Id</th>\n",
       "      <th>First Name</th>\n",
       "      <th>Last Name</th>\n",
       "      <th>Gender</th>\n",
       "      <th>Job Title</th>\n",
       "      <th>Salary</th>\n",
       "    </tr>\n",
       "  </thead>\n",
       "  <tbody>\n",
       "    <tr>\n",
       "      <th>0</th>\n",
       "      <td>1</td>\n",
       "      <td>8717bbf45cCDbEe</td>\n",
       "      <td>Shelia</td>\n",
       "      <td>Mahoney</td>\n",
       "      <td>Male</td>\n",
       "      <td>Probation officer</td>\n",
       "      <td>90000</td>\n",
       "    </tr>\n",
       "    <tr>\n",
       "      <th>1</th>\n",
       "      <td>2</td>\n",
       "      <td>3d5AD30A4cD38ed</td>\n",
       "      <td>Jo</td>\n",
       "      <td>Rivers</td>\n",
       "      <td>Female</td>\n",
       "      <td>Dancer</td>\n",
       "      <td>80000</td>\n",
       "    </tr>\n",
       "    <tr>\n",
       "      <th>2</th>\n",
       "      <td>3</td>\n",
       "      <td>810Ce0F276Badec</td>\n",
       "      <td>Sheryl</td>\n",
       "      <td>Lowery</td>\n",
       "      <td>Female</td>\n",
       "      <td>Copy</td>\n",
       "      <td>50000</td>\n",
       "    </tr>\n",
       "    <tr>\n",
       "      <th>3</th>\n",
       "      <td>4</td>\n",
       "      <td>BF2a889C00f0cE1</td>\n",
       "      <td>Whitney</td>\n",
       "      <td>Hooper</td>\n",
       "      <td>Male</td>\n",
       "      <td>Counselling psychologist</td>\n",
       "      <td>65000</td>\n",
       "    </tr>\n",
       "    <tr>\n",
       "      <th>4</th>\n",
       "      <td>5</td>\n",
       "      <td>9afFEafAe1CBBB9</td>\n",
       "      <td>Lindsey</td>\n",
       "      <td>Rice</td>\n",
       "      <td>Female</td>\n",
       "      <td>Biomedical engineer</td>\n",
       "      <td>100000</td>\n",
       "    </tr>\n",
       "    <tr>\n",
       "      <th>...</th>\n",
       "      <td>...</td>\n",
       "      <td>...</td>\n",
       "      <td>...</td>\n",
       "      <td>...</td>\n",
       "      <td>...</td>\n",
       "      <td>...</td>\n",
       "      <td>...</td>\n",
       "    </tr>\n",
       "    <tr>\n",
       "      <th>995</th>\n",
       "      <td>996</td>\n",
       "      <td>fedF4c7Fd9e7cFa</td>\n",
       "      <td>Kurt</td>\n",
       "      <td>Bryant</td>\n",
       "      <td>Female</td>\n",
       "      <td>Personnel officer</td>\n",
       "      <td>90000</td>\n",
       "    </tr>\n",
       "    <tr>\n",
       "      <th>996</th>\n",
       "      <td>997</td>\n",
       "      <td>ECddaFEDdEc4FAB</td>\n",
       "      <td>Donna</td>\n",
       "      <td>Barry</td>\n",
       "      <td>Female</td>\n",
       "      <td>Education administrator</td>\n",
       "      <td>50000</td>\n",
       "    </tr>\n",
       "    <tr>\n",
       "      <th>997</th>\n",
       "      <td>998</td>\n",
       "      <td>2adde51d8B8979E</td>\n",
       "      <td>Cathy</td>\n",
       "      <td>Mckinney</td>\n",
       "      <td>Female</td>\n",
       "      <td>Commercial/residential surveyor</td>\n",
       "      <td>60000</td>\n",
       "    </tr>\n",
       "    <tr>\n",
       "      <th>998</th>\n",
       "      <td>999</td>\n",
       "      <td>Fb2FE369D1E171A</td>\n",
       "      <td>Jermaine</td>\n",
       "      <td>Phelps</td>\n",
       "      <td>Male</td>\n",
       "      <td>Ambulance person</td>\n",
       "      <td>100000</td>\n",
       "    </tr>\n",
       "    <tr>\n",
       "      <th>999</th>\n",
       "      <td>1000</td>\n",
       "      <td>8b756f6231DDC6e</td>\n",
       "      <td>Lee</td>\n",
       "      <td>Tran</td>\n",
       "      <td>Female</td>\n",
       "      <td>Nurse, learning disability</td>\n",
       "      <td>90000</td>\n",
       "    </tr>\n",
       "  </tbody>\n",
       "</table>\n",
       "<p>1000 rows × 7 columns</p>\n",
       "</div>"
      ],
      "text/plain": [
       "     Index          User Id First Name Last Name  Gender  \\\n",
       "0        1  8717bbf45cCDbEe     Shelia   Mahoney    Male   \n",
       "1        2  3d5AD30A4cD38ed         Jo    Rivers  Female   \n",
       "2        3  810Ce0F276Badec     Sheryl    Lowery  Female   \n",
       "3        4  BF2a889C00f0cE1    Whitney    Hooper    Male   \n",
       "4        5  9afFEafAe1CBBB9    Lindsey      Rice  Female   \n",
       "..     ...              ...        ...       ...     ...   \n",
       "995    996  fedF4c7Fd9e7cFa       Kurt    Bryant  Female   \n",
       "996    997  ECddaFEDdEc4FAB      Donna     Barry  Female   \n",
       "997    998  2adde51d8B8979E      Cathy  Mckinney  Female   \n",
       "998    999  Fb2FE369D1E171A   Jermaine    Phelps    Male   \n",
       "999   1000  8b756f6231DDC6e        Lee      Tran  Female   \n",
       "\n",
       "                           Job Title  Salary  \n",
       "0                  Probation officer   90000  \n",
       "1                             Dancer   80000  \n",
       "2                               Copy   50000  \n",
       "3           Counselling psychologist   65000  \n",
       "4                Biomedical engineer  100000  \n",
       "..                               ...     ...  \n",
       "995                Personnel officer   90000  \n",
       "996          Education administrator   50000  \n",
       "997  Commercial/residential surveyor   60000  \n",
       "998                 Ambulance person  100000  \n",
       "999       Nurse, learning disability   90000  \n",
       "\n",
       "[1000 rows x 7 columns]"
      ]
     },
     "execution_count": 21,
     "metadata": {},
     "output_type": "execute_result"
    }
   ],
   "source": [
    "\n",
    "\n",
    "#c) Print the final output also\n",
    "data"
   ]
  },
  {
   "cell_type": "code",
   "execution_count": null,
   "id": "70129c67-1296-47d0-a9f4-7257fbb89693",
   "metadata": {},
   "outputs": [],
   "source": [
    "\n",
    "\n",
    "\n",
    "\n",
    "\n",
    "\n",
    "\n",
    "\n",
    "\n",
    "\n",
    "\n",
    "\n",
    "\n",
    "\n",
    "\n",
    "\n"
   ]
  },
  {
   "cell_type": "code",
   "execution_count": 1,
   "id": "46d52855-ee1c-4652-8091-14daff37628b",
   "metadata": {},
   "outputs": [],
   "source": [
    "#QUESTION 13  "
   ]
  },
  {
   "cell_type": "code",
   "execution_count": 2,
   "id": "18fa4dbc-e9ef-44a8-b8d8-b46476ffacb9",
   "metadata": {},
   "outputs": [],
   "source": [
    "#g Create two NumPy arrays, x and y, each containing 100 random float values between 0 and 1. Perform the following tasks using Matplotlib and NumPy:"
   ]
  },
  {
   "cell_type": "code",
   "execution_count": 4,
   "id": "2ea8c46c-a878-4491-8387-c2484c37592a",
   "metadata": {},
   "outputs": [
    {
     "data": {
      "text/plain": [
       "array([0.11521898, 0.09492561, 0.57720186, 0.1936267 , 0.56602504,\n",
       "       0.06115003, 0.00881554, 0.22151978, 0.88909549, 0.60428482,\n",
       "       0.12062596, 0.74728517, 0.52586601, 0.62373912, 0.67722035,\n",
       "       0.89657561, 0.79651892, 0.70306689, 0.34224978, 0.35216413,\n",
       "       0.23854016, 0.28629569, 0.42531793, 0.14499692, 0.8724399 ,\n",
       "       0.91113597, 0.67826377, 0.92529158, 0.19371165, 0.488085  ,\n",
       "       0.23036546, 0.73115267, 0.76310436, 0.52681183, 0.82724986,\n",
       "       0.45187694, 0.37379577, 0.89163816, 0.03483881, 0.69483213,\n",
       "       0.52968773, 0.68429965, 0.7597706 , 0.77151127, 0.3515668 ,\n",
       "       0.28181023, 0.62776459, 0.12829327, 0.35290793, 0.84235241,\n",
       "       0.48131436, 0.40544242, 0.37684547, 0.10630748, 0.92995775,\n",
       "       0.19775671, 0.7582222 , 0.40542969, 0.25084747, 0.65249427,\n",
       "       0.07824967, 0.08195657, 0.53338205, 0.35750189, 0.52105143,\n",
       "       0.70202875, 0.40454254, 0.19583683, 0.87132847, 0.68752591,\n",
       "       0.16774271, 0.16002547, 0.01952255, 0.25802233, 0.00880385,\n",
       "       0.98918717, 0.74820562, 0.6337491 , 0.86135614, 0.57653093,\n",
       "       0.50168023, 0.93301546, 0.89339185, 0.64056099, 0.36456128,\n",
       "       0.79519222, 0.73767135, 0.90683864, 0.21535201, 0.34169487,\n",
       "       0.76526711, 0.4244879 , 0.9183032 , 0.81666928, 0.79554567,\n",
       "       0.03189261, 0.77137772, 0.26784441, 0.17880748, 0.28617471])"
      ]
     },
     "execution_count": 4,
     "metadata": {},
     "output_type": "execute_result"
    }
   ],
   "source": [
    "import numpy as np\n",
    "\n",
    "#generate random value for x\n",
    "x=np.random.rand(100)\n",
    "x"
   ]
  },
  {
   "cell_type": "code",
   "execution_count": 5,
   "id": "c2c66a25-44d0-49ae-88d6-91288d0f67ae",
   "metadata": {},
   "outputs": [
    {
     "data": {
      "text/plain": [
       "array([0.72520857, 0.54785951, 0.95380292, 0.80590055, 0.93282132,\n",
       "       0.42091211, 0.12909651, 0.53895158, 0.37971531, 0.91681998,\n",
       "       0.66180536, 0.91971018, 0.67249943, 0.19105111, 0.08125217,\n",
       "       0.73467644, 0.16424049, 0.23559133, 0.75319815, 0.74827981,\n",
       "       0.51999346, 0.40703322, 0.63696167, 0.46685346, 0.29892302,\n",
       "       0.24202032, 0.54725295, 0.16787184, 0.31558123, 0.17095108,\n",
       "       0.06820672, 0.06075036, 0.0584027 , 0.13231475, 0.41359612,\n",
       "       0.31531212, 0.24320844, 0.81434922, 0.4046859 , 0.73243451,\n",
       "       0.89501812, 0.82671824, 0.57844112, 0.57980513, 0.47439631,\n",
       "       0.62498707, 0.87483129, 0.31375279, 0.28084976, 0.51670567,\n",
       "       0.06522104, 0.19898754, 0.69917496, 0.81462773, 0.0042878 ,\n",
       "       0.77430565, 0.34019676, 0.79109856, 0.14383422, 0.15999638,\n",
       "       0.02854362, 0.34464986, 0.43742112, 0.69620045, 0.451071  ,\n",
       "       0.69355864, 0.01423879, 0.80894004, 0.26809765, 0.16477087,\n",
       "       0.65023277, 0.41737837, 0.6871975 , 0.63143695, 0.64730804,\n",
       "       0.75066654, 0.84703028, 0.63091318, 0.73001189, 0.73700407,\n",
       "       0.35475778, 0.44225068, 0.11908717, 0.05667697, 0.88274567,\n",
       "       0.54079707, 0.47548157, 0.19715726, 0.54841103, 0.89790169,\n",
       "       0.21004871, 0.29136878, 0.44091715, 0.1249818 , 0.59263149,\n",
       "       0.29951804, 0.02032715, 0.74384478, 0.87758671, 0.32676216])"
      ]
     },
     "execution_count": 5,
     "metadata": {},
     "output_type": "execute_result"
    }
   ],
   "source": [
    "#generate random number for y\n",
    "\n",
    "y=np.random.rand(100)\n",
    "y"
   ]
  },
  {
   "cell_type": "code",
   "execution_count": 10,
   "id": "b24c84d0-8a19-41fc-9f40-dc81cc1bebcf",
   "metadata": {},
   "outputs": [
    {
     "data": {
      "text/plain": [
       "<matplotlib.collections.PathCollection at 0x7ff7d4e91990>"
      ]
     },
     "execution_count": 10,
     "metadata": {},
     "output_type": "execute_result"
    },
    {
     "data": {
      "image/png": "[encoded data removed]",
      "text/plain": [
       "<Figure size 640x480 with 1 Axes>"
      ]
     },
     "metadata": {},
     "output_type": "display_data"
    }
   ],
   "source": [
    " #Create a scatter \u0018lot using x and y, setting the color of the \u0018oints to red and the marker style to 'o'.\n",
    "import matplotlib.pyplot as plt\n",
    "plt.scatter(x,y ,color = 'red',marker='o',label='random points')"
   ]
  },
  {
   "cell_type": "code",
   "execution_count": 13,
   "id": "af66ba3a-795a-4f0d-85c0-1ed4251ec207",
   "metadata": {},
   "outputs": [
    {
     "data": {
      "text/plain": [
       "<matplotlib.lines.Line2D at 0x7ff7d4ae4d00>"
      ]
     },
     "execution_count": 13,
     "metadata": {},
     "output_type": "execute_result"
    },
    {
     "data": {
      "image/png": "[encoded data removed]",
      "text/plain": [
       "<Figure size 640x480 with 1 Axes>"
      ]
     },
     "metadata": {},
     "output_type": "display_data"
    }
   ],
   "source": [
    " \n",
    "\n",
    "#b) Add a horizontal line at y = 0.5 using a dashed line style and label it as 'y = 0.5'.\n",
    "\n",
    "plt.axhline(y=0.5,color='red',linestyle='--' ,label='y=0.5')"
   ]
  },
  {
   "cell_type": "code",
   "execution_count": 15,
   "id": "0d96f8bb-0f55-4732-92a8-2037caf0a8ee",
   "metadata": {},
   "outputs": [
    {
     "data": {
      "text/plain": [
       "<matplotlib.lines.Line2D at 0x7ff7d4b5ebf0>"
      ]
     },
     "execution_count": 15,
     "metadata": {},
     "output_type": "execute_result"
    },
    {
     "data": {
      "image/png": "[encoded data removed]",
      "text/plain": [
       "<Figure size 640x480 with 1 Axes>"
      ]
     },
     "metadata": {},
     "output_type": "display_data"
    }
   ],
   "source": [
    " \n",
    "# c) Add a vertical line at x = 0.5 using a dotted line style and label it as 'x = 0.5'.\n",
    "plt.axvline(x=0.5,linestyle=':',color='blue',label='x=0.5')\n"
   ]
  },
  {
   "cell_type": "code",
   "execution_count": 16,
   "id": "5a738018-8f27-46ad-b447-4f171a689566",
   "metadata": {},
   "outputs": [
    {
     "data": {
      "text/plain": [
       "Text(0, 0.5, 'y-axis')"
      ]
     },
     "execution_count": 16,
     "metadata": {},
     "output_type": "execute_result"
    },
    {
     "data": {
      "image/png": "[encoded data removed]",
      "text/plain": [
       "<Figure size 640x480 with 1 Axes>"
      ]
     },
     "metadata": {},
     "output_type": "display_data"
    }
   ],
   "source": [
    "\n",
    "#d) Label the x-axis as 'X-axis' and the y-axis as 'Y-axis'.\n",
    "plt.xlabel('x-axis')\n",
    "plt.ylabel('y-axis')\n"
   ]
  },
  {
   "cell_type": "code",
   "execution_count": 17,
   "id": "7f46a80d-a916-4278-bfad-596322af5108",
   "metadata": {},
   "outputs": [
    {
     "data": {
      "text/plain": [
       "Text(0.5, 1.0, 'Advanced Scatter Plot of Random Values')"
      ]
     },
     "execution_count": 17,
     "metadata": {},
     "output_type": "execute_result"
    },
    {
     "data": {
      "image/png": "[encoded data removed]",
      "text/plain": [
       "<Figure size 640x480 with 1 Axes>"
      ]
     },
     "metadata": {},
     "output_type": "display_data"
    }
   ],
   "source": [
    " \n",
    "\n",
    "#e) Set the title of the \u0018lot as 'Advanced Scatter Plot of Random Values'.\n",
    "plt.title('Advanced Scatter Plot of Random Values')\n"
   ]
  },
  {
   "cell_type": "code",
   "execution_count": 19,
   "id": "98141ddc-96fa-42d7-a461-e7000233535a",
   "metadata": {},
   "outputs": [
    {
     "name": "stderr",
     "output_type": "stream",
     "text": [
      "No artists with labels found to put in legend.  Note that artists whose label start with an underscore are ignored when legend() is called with no argument.\n"
     ]
    },
    {
     "data": {
      "image/png": "[encoded data removed]",
      "text/plain": [
       "<Figure size 640x480 with 1 Axes>"
      ]
     },
     "metadata": {},
     "output_type": "display_data"
    }
   ],
   "source": [
    "#f) Dis\u0018lay a legend for the scatter \u0018lot, the horizontal line, and the vertical line.\n",
    "plt.legend()\n",
    "plt.show()"
   ]
  },
  {
   "cell_type": "code",
   "execution_count": 22,
   "id": "7edacea4-98ac-41a5-8f56-d6d65d98506b",
   "metadata": {},
   "outputs": [],
   "source": [
    "import pandas as pd\n",
    "import numpy as np\n",
    "import matplotlib.pyplot as plt\n",
    "\n",
    "# Create a time-series dataset\n",
    "dates = pd.date_range('2024-01-01', periods=365)\n",
    "temperature = np.random.normal(25, 5, 365)\n",
    "humidity = np.random.normal(50, 10, 365)\n",
    "\n",
    "data = {'Date': dates, 'Temperature': temperature, 'Humidity': humidity}\n",
    "df = pd.DataFrame(data)\n",
    "\n",
    "\n"
   ]
  },
  {
   "cell_type": "code",
   "execution_count": 24,
   "id": "60d3803d-3e7a-45e8-95b8-2ac340a0c8dc",
   "metadata": {},
   "outputs": [
    {
     "data": {
      "image/png": "[encoded data removed]",
      "text/plain": [
       "<Figure size 1000x500 with 2 Axes>"
      ]
     },
     "metadata": {},
     "output_type": "display_data"
    }
   ],
   "source": [
    "#a. Plot Temperature and Humidity on the same plot with different y-axes\n",
    "#b) Label the x-axis as 'Date'.\n",
    "#c) Set the title of the \u0018lot as 'Tem\u0018erature and Humidity Over Time'.\n",
    "\n",
    "fig, ax1 = plt.subplots(figsize=(10, 5))\n",
    "\n",
    "color = 'tab:blue'\n",
    "ax1.set_xlabel('Date')\n",
    "ax1.set_ylabel('Temperature (°C)', color=color)\n",
    "ax1.plot(df['Date'], df['Temperature'], color=color)\n",
    "ax1.tick_params(axis='y', labelcolor=color)\n",
    "\n",
    "ax2 = ax1.twinx()\n",
    "color = 'tab:green'\n",
    "ax2.set_ylabel('Humidity (%)', color=color)\n",
    "ax2.plot(df['Date'], df['Humidity'], color=color)\n",
    "ax2.tick_params(axis='y', labelcolor=color)\n",
    "\n",
    "plt.title('Temperature and Humidity Over Time')\n",
    "plt.show()"
   ]
  },
  {
   "cell_type": "code",
   "execution_count": null,
   "id": "22cc18cf-064f-4317-8321-fb7c8b618fa1",
   "metadata": {},
   "outputs": [],
   "source": []
  },
  {
   "cell_type": "code",
   "execution_count": 26,
   "id": "c20be831-8b1a-4b30-a255-a9e6bc8dc334",
   "metadata": {},
   "outputs": [
    {
     "data": {
      "text/plain": [
       "array([ 0.01488109, -0.27654147, -0.77285838,  0.09636462,  0.85273547,\n",
       "        1.01766689,  0.07181847,  0.57241021, -1.59839256, -0.57356512,\n",
       "       -0.6124622 ,  1.67557065, -0.20063116, -0.50744442, -0.13865408,\n",
       "       -0.20338933,  0.11925271,  0.05461566, -0.37412713, -1.36279385,\n",
       "        2.84371635, -1.53471264, -0.21149473, -0.38649491, -0.46759057,\n",
       "       -0.46175191, -0.6576523 ,  1.65428994, -1.46206223, -0.59753918,\n",
       "        0.07593372,  1.54666987,  0.79074888, -0.87220741, -0.32252083,\n",
       "        0.15804306, -0.23968451,  0.17228849,  0.27798367, -1.09134143,\n",
       "       -0.01218272,  1.70639588, -0.15730861, -1.39835045,  1.49550772,\n",
       "        0.52566395,  0.0264552 , -0.22658038,  0.04151514, -1.55990006,\n",
       "       -0.871629  , -1.07706493,  0.07533223,  0.35258464,  1.20207796,\n",
       "        0.27168345,  1.01393808,  0.86852634,  0.10388518, -1.10056549,\n",
       "        0.70786547,  1.45461028, -0.38505432,  0.18982215,  1.94141033,\n",
       "        0.2255713 ,  0.52750842,  1.09496663, -2.30007113, -0.82252732,\n",
       "       -0.63837001,  0.89651524, -0.18743817, -1.106483  ,  0.55471382,\n",
       "       -0.25290144, -0.76312767,  1.22254969,  1.38636843,  0.54317681,\n",
       "        0.90853129, -0.38074364,  0.67691259,  1.31356243,  1.04915405,\n",
       "        1.74182737,  2.22849697, -1.71225352, -0.74340651,  1.00304256,\n",
       "       -0.04655499,  1.24895541,  1.11914215,  0.32512301,  0.2568009 ,\n",
       "        0.02080929, -0.97747224,  1.57585685, -0.54121577,  1.45825017,\n",
       "       -0.65741695,  0.87025497, -0.22251442, -1.22094292, -0.04718287,\n",
       "        0.09731236, -0.00428649, -0.67468086, -0.68996171,  0.76126372,\n",
       "       -0.42320583, -2.82930668,  0.82299696, -0.79358068,  0.64332402,\n",
       "        0.87023015,  0.69454865, -1.91643153, -1.52694066,  0.25191072,\n",
       "        0.50178683, -0.17478381,  0.21876196, -1.24034781,  0.20698679,\n",
       "        0.25289777, -0.85048491,  0.63974636, -1.77185913,  1.41829567,\n",
       "       -0.09506295, -0.27007673,  0.79768902,  0.88922825,  2.86457928,\n",
       "       -0.56773038, -1.34178662, -0.88840773,  0.09233208,  0.34165933,\n",
       "        0.23303544,  2.01620951, -0.62676258, -0.35294783,  0.92532222,\n",
       "        0.94086862,  2.50246437,  0.97680689,  0.67505043, -1.10564708,\n",
       "       -0.48048067, -0.5117014 , -0.43567418,  0.26830091,  1.0065981 ,\n",
       "        0.62973033,  0.42675656, -0.15307687,  0.4462794 , -0.98898736,\n",
       "       -1.471577  , -0.53101556,  0.78804388,  0.71613258,  0.12844783,\n",
       "       -0.18680926, -0.11183145, -0.82293714, -0.96683811,  0.67232821,\n",
       "        1.39694719, -2.01664247,  1.08289836, -1.21694765,  0.79011249,\n",
       "       -0.66185061, -0.89605546, -1.30748985, -1.4912357 , -0.46707571,\n",
       "       -0.06698448, -0.83397567,  0.35686773, -1.70962339, -0.93611633,\n",
       "        0.01363413,  0.36157128,  0.58856148, -0.1913662 , -0.8413772 ,\n",
       "       -0.85786709, -1.63983872, -0.69696028,  0.30884085, -0.08010898,\n",
       "       -0.02073094, -0.06143454,  2.18021492, -1.19707675, -0.34948267,\n",
       "        0.37693422,  2.77644718, -1.4326413 , -1.61605546,  0.20273606,\n",
       "        0.57788012, -1.7915629 , -0.86271753, -1.52493326,  1.13941207,\n",
       "        1.6419081 , -0.49809152,  0.97507013, -0.7515427 , -0.23929131,\n",
       "        1.03634204,  0.74104772, -0.5117728 ,  0.43827989,  0.38808447,\n",
       "        0.4063145 ,  0.30283058, -0.5777626 ,  0.62055739,  1.76389845,\n",
       "        0.55752646,  0.84479669,  0.66645875, -0.40164376,  1.17767538,\n",
       "        1.88386943,  0.3108033 ,  0.5089473 , -0.84528848,  0.51680297,\n",
       "        0.12313052,  0.13014441,  0.78285256, -2.18098709, -1.00277812,\n",
       "        0.78117216, -0.59230883, -0.84541252, -0.9937245 , -0.53184582,\n",
       "       -1.02220374,  0.20219776,  0.5914625 , -0.30136548, -1.37411391,\n",
       "        0.33157511, -0.74775714, -1.27668429,  1.82546149, -0.96652668,\n",
       "       -0.15238385,  0.07048653,  0.1887377 , -0.86829371, -2.20678288,\n",
       "        0.63788289,  2.40880818, -0.30720046, -0.25072298,  0.68691179,\n",
       "       -0.19037802, -0.04676132,  1.97699667,  0.52817823,  1.53248395,\n",
       "       -2.10389143, -1.80255661, -0.42945465,  0.50342406, -0.57225658,\n",
       "        0.61786379, -1.081969  ,  0.07253867, -1.12233595, -0.09613746,\n",
       "        0.21774123,  0.84399752,  0.5842804 , -0.46611003,  1.40360043,\n",
       "       -1.73567172, -0.81379998, -0.26750038,  1.83994005,  1.5127218 ,\n",
       "        0.3376981 , -0.00457855,  0.5740224 , -0.89725894, -0.93207936,\n",
       "        1.1099537 , -0.32862274,  0.4455326 , -0.04585283, -1.02656246,\n",
       "        1.40235658, -0.27922588,  0.00424799, -0.91334054, -1.0118363 ,\n",
       "       -1.14216206, -0.57676028,  0.10327274, -0.04174326,  1.00196785,\n",
       "       -0.14259227,  0.41124546,  0.58112454, -0.29499986,  0.43500833,\n",
       "       -1.82362668, -0.20824589, -0.34136426,  1.69754993, -2.42116868,\n",
       "       -1.09438202,  1.22772734,  0.44629511, -0.47413945, -0.39497513,\n",
       "       -0.4299833 ,  1.15348621, -0.18286095, -0.94619862, -1.1088047 ,\n",
       "        0.00342817, -0.66718312,  0.43465591,  0.11227877, -1.31587169,\n",
       "       -2.82500422, -0.39845708,  0.19066577,  1.23458274, -1.55039251,\n",
       "        2.04511172,  1.40811959,  1.25063979, -2.46336664,  0.01720597,\n",
       "       -0.91454512,  0.10419047, -0.64621497, -0.77778329, -1.91320833,\n",
       "        1.08328106,  0.45080236, -0.97038607,  1.65269008,  0.49392391,\n",
       "        1.59321432,  0.49858863,  0.33410814,  1.60853314, -0.95388074,\n",
       "       -1.20436816,  0.15586539,  1.58145616,  2.36895972, -0.79322436,\n",
       "       -0.78575941, -1.34124055,  1.19320555, -0.13197597, -0.99770739,\n",
       "       -0.28035462, -0.86358506, -1.68330706, -2.09900408,  0.21817433,\n",
       "       -0.47956432, -0.06767187, -0.10822743, -0.20119272,  0.54821644,\n",
       "       -0.5522721 ,  0.55687549,  0.79935819,  1.0035552 , -0.17928649,\n",
       "       -1.3292211 , -0.32689838, -0.12923199,  0.53038864, -0.25901165,\n",
       "       -1.06080535, -0.76514188, -1.37804691,  0.57083826, -0.35442592,\n",
       "        1.10348731, -0.80100278, -0.7004014 ,  0.48602026,  1.19858232,\n",
       "        0.2166925 ,  0.44420185,  1.44098853, -0.20594766,  1.33660987,\n",
       "        0.26638657,  0.38529719,  1.14030731,  1.93381071,  1.69542155,\n",
       "       -0.05120092, -0.75489895,  0.95179787,  0.69302095, -0.95420529,\n",
       "       -2.31828745, -0.10637141,  0.7798919 , -0.87011407, -0.9518826 ,\n",
       "       -0.12699403, -1.74643208,  0.76059306, -0.64027985,  1.49875973,\n",
       "        1.22300677,  1.55157983, -1.11303303, -1.05945392, -0.93550228,\n",
       "       -0.79547803, -0.74502422,  0.58047899,  0.72360097, -1.06380423,\n",
       "        0.03277054, -2.07611808,  0.48628843,  0.85570523, -1.907099  ,\n",
       "       -0.43138216, -1.37173906, -0.45950786,  1.65313146, -1.40713568,\n",
       "        0.53033025, -0.87820732, -1.72915721, -0.96021015, -0.65667638,\n",
       "        1.58705727, -0.93754915,  2.28610811, -3.29656264,  1.93256952,\n",
       "        0.38654814,  0.14256745,  0.93560074,  0.54836716,  0.40904043,\n",
       "       -0.71293366,  0.49044327, -1.88692401, -1.49274535, -0.88820996,\n",
       "        0.21374833, -1.83367929, -1.56112195,  1.60390308,  0.99880476,\n",
       "       -0.86345764, -0.60024631,  1.61161689,  0.10853336,  0.79335675,\n",
       "       -0.6813291 ,  2.69437222, -0.47574855, -0.12105896, -0.16237999,\n",
       "       -0.10373729, -1.40064853,  0.56449973, -0.57760068,  0.45492542,\n",
       "        1.08622475,  1.36511378,  1.03467689, -0.70336651,  0.49044136,\n",
       "       -0.93965418, -1.15256814, -0.79550789,  0.52292864,  1.02703182,\n",
       "       -1.12116594, -0.7555699 ,  0.70139491,  0.99340669, -0.06911727,\n",
       "        1.23533979,  0.68839348, -0.37663389,  0.77596142,  0.78342987,\n",
       "        0.60124983,  1.28573566,  0.49291784,  0.76732078,  0.66067632,\n",
       "        0.00465087, -2.46113144,  0.09283655,  0.46076625, -0.28768889,\n",
       "        0.72974255, -0.76631239, -1.82712521,  0.73166784,  0.0788966 ,\n",
       "       -0.8380644 ,  0.97132522, -0.08446576,  1.40085766, -0.76000947,\n",
       "        0.84947987,  0.53922804,  0.35817617, -0.54222346,  0.08214908,\n",
       "        0.48317628, -1.63434465,  0.8679955 ,  0.01168835,  0.08049364,\n",
       "        0.40831892, -0.09286741,  0.24341573,  0.15002375, -2.04161401,\n",
       "       -0.07359224,  0.64897315,  0.52708796, -0.53266108, -0.30383962,\n",
       "        1.3858738 , -1.55873127, -0.04635829,  0.90967059,  0.33705154,\n",
       "       -0.90666212,  0.01252893,  0.27170184, -1.20787853, -2.17200413,\n",
       "        0.8197944 , -0.3894579 ,  0.83804261, -0.43228108,  0.15092547,\n",
       "       -1.3850162 ,  0.6848865 ,  1.35417343, -0.83845169, -1.10036036,\n",
       "        0.60637293, -0.79092031, -0.68134393, -0.36897866, -0.95592375,\n",
       "       -0.44475281, -1.94821004, -0.43819428, -0.10678858, -0.61925921,\n",
       "        0.33596464, -0.14868582, -1.31024963, -0.98778599,  0.1212742 ,\n",
       "        0.15904222,  0.34431754,  1.80688076, -1.43014184, -0.2017866 ,\n",
       "       -0.92176936,  1.10768468,  0.98073742,  1.59067819, -1.37067959,\n",
       "       -0.44840518,  0.44849974,  0.55111286,  0.07063547, -0.74851708,\n",
       "       -0.08177662, -0.25200623, -1.38224741, -0.77750939,  0.86419454,\n",
       "       -1.33277409,  0.06113756, -1.83058097,  2.02124508,  0.53866157,\n",
       "       -0.98263169,  0.14554975, -0.17016918,  1.77751753,  0.09049814,\n",
       "       -1.40069116, -1.53533979, -0.32687651, -0.56995832,  2.82405306,\n",
       "        0.01602427, -0.16786655, -0.86314495,  1.75726595, -0.16774275,\n",
       "       -1.13958806, -1.49697111, -0.2432184 , -0.38283211, -0.86141986,\n",
       "       -0.55167255, -1.4312255 , -1.76953864,  0.75544222, -0.35185596,\n",
       "       -0.25521062,  0.73110644, -1.27097969,  0.16817798, -2.80283945,\n",
       "        1.08603929,  0.25007824,  0.34829177,  0.458158  ,  0.29505337,\n",
       "        0.96241101,  0.05318051, -2.07104141,  1.40824239, -1.02927402,\n",
       "        0.43614147, -1.68331431, -0.18527667,  0.83437284, -0.67776796,\n",
       "        0.52516118,  0.91530124,  0.92100861, -0.87242406,  0.01241736,\n",
       "       -0.63215149, -0.91569594, -0.19178026, -0.27403778,  0.15483569,\n",
       "       -1.29268508, -1.48315324,  1.51882805,  0.91600065,  1.04115273,\n",
       "        0.57293692,  0.11671339, -0.74282968,  1.02152953, -0.97313424,\n",
       "       -0.69422819, -2.88393758, -0.34724282, -0.32770277, -0.31008446,\n",
       "       -2.06240491,  0.89283679, -1.10282868,  0.01189821, -1.44149568,\n",
       "       -0.59145564, -0.3854264 ,  0.20729091,  0.00542133,  1.15447106,\n",
       "       -1.43199155,  0.78044723, -0.68511716,  0.85299771, -1.61523274,\n",
       "        0.97595693,  0.51624195, -0.37335099, -1.27081515, -1.0321499 ,\n",
       "       -0.99731028, -0.85646209, -0.33996124, -0.00550493, -0.30440227,\n",
       "        0.86538929, -0.64707114, -1.27347534, -0.67086446, -0.44881093,\n",
       "        2.04317857, -0.45893744, -0.24786306, -1.33111148,  0.37012649,\n",
       "        2.20011182, -0.60738043, -1.98560265,  0.16274192,  1.70401112,\n",
       "       -0.13965249,  0.05365479,  0.34387945,  0.6466209 ,  1.76265587,\n",
       "        1.53852189,  0.80079245, -0.79106773,  2.2408473 ,  0.68639053,\n",
       "        0.88702032,  0.34864221, -2.83274815, -0.99786965, -1.11131874,\n",
       "        0.22653665,  0.14453828, -1.12807646,  2.73387989,  0.66551923,\n",
       "       -0.77552105, -1.24660408,  0.17520703,  0.40830438,  0.16404198,\n",
       "       -1.02756303, -0.09714543, -1.57845074, -0.63752747,  1.05367051,\n",
       "        0.60548366,  1.03690316, -0.70618405, -2.1167637 ,  0.98912976,\n",
       "        1.74060411, -0.36499934, -0.41270549, -1.7401915 ,  1.09921724,\n",
       "        1.45532839,  0.53413975,  0.11242317,  0.08704196,  0.34219354,\n",
       "       -0.23508621, -0.98963218, -0.11152983,  2.31779458, -0.05672017,\n",
       "       -1.18026675,  0.39809277, -1.36840994,  0.17183569, -0.15493595,\n",
       "        0.21464537,  1.12363796,  0.45188309,  0.6579471 ,  0.17675365,\n",
       "        0.56330542, -1.28635537, -1.1967441 , -0.50744226, -2.05710702,\n",
       "        0.44026105,  0.44744155,  0.98788986,  0.86064772,  1.51854152,\n",
       "       -1.57983867, -1.02060649,  0.37626515,  0.71448569, -0.18664445,\n",
       "       -0.15536839, -1.27778314,  0.80445741,  2.13750666,  0.17592752,\n",
       "       -1.98149076,  0.20188949, -1.05395862, -0.12909263,  0.51837378,\n",
       "        1.63294644,  0.09757401, -2.12862945, -2.12655469,  1.23608068,\n",
       "       -0.86857068,  1.5614233 , -0.33584714,  0.37692209,  1.72239804,\n",
       "        0.44240384,  0.84675674,  2.20099341, -0.88417052,  0.70205416,\n",
       "       -1.17238303,  0.47576366, -0.08679817, -0.30821028,  0.02695086,\n",
       "       -0.58199019, -0.66320909,  0.14443143, -0.19159035, -0.18826419,\n",
       "        0.57889405, -0.95343599, -1.35907224, -0.04466951,  0.72531693,\n",
       "        1.31110444,  0.37620076,  1.3531264 ,  0.78984043, -0.68762959,\n",
       "       -0.64210755,  1.24859384, -0.481854  ,  0.88556488,  0.79753399,\n",
       "        0.31301977,  0.61251785, -0.20764243,  0.15049877, -1.74416427,\n",
       "        0.05174462, -0.97633718,  0.6573566 ,  1.44045881,  0.98664144,\n",
       "       -0.9377451 , -1.85069082, -1.13823701,  0.99454937,  1.37154979,\n",
       "        1.93317188, -0.26540195, -0.8830695 , -1.02691568, -0.06715135,\n",
       "        0.40893693, -1.05819845, -0.46090771,  0.65408727,  0.74026014,\n",
       "       -0.49111088, -0.24046585,  0.3219339 , -0.0447841 , -1.03676494,\n",
       "       -0.90527516,  1.00905947, -1.59612538, -0.11217003, -0.46595424,\n",
       "        1.12264632, -0.98477744,  3.14251128, -1.31319528,  1.23949284,\n",
       "        0.07906687,  0.51517612,  0.23163745,  1.92109154, -0.3339158 ,\n",
       "        0.84024959, -0.32633925,  0.88772001,  0.91204213, -2.00636096,\n",
       "       -0.82231385, -0.27262865,  0.04831571,  0.65355272, -0.42603632,\n",
       "        2.31741247, -0.28259495, -0.18065971, -0.30463254, -0.12676065,\n",
       "       -1.06603193, -0.32658432, -0.82202972, -0.47505562,  1.70921085,\n",
       "        0.53677581,  1.48447411, -0.59032392, -0.33875842,  0.19779003,\n",
       "       -0.7393499 ,  0.56845783, -0.99403424,  1.79634293,  0.53939268,\n",
       "       -0.72481713,  2.7362689 ,  2.23058941, -0.78936639, -0.05138576,\n",
       "        0.03499331,  0.52705276, -1.74045916, -1.30242645, -0.68901697,\n",
       "        1.09729573,  0.43522624,  1.34926541,  0.34014756,  0.43051994,\n",
       "       -0.79929409,  0.14864227,  0.41740557,  1.71363571, -0.65457205,\n",
       "       -0.19264965, -0.53236577, -0.46595838,  1.12428508, -1.1210692 ,\n",
       "       -0.54085192, -1.39591783,  0.21704335, -0.13811385,  0.63466898,\n",
       "        0.32734913,  0.53665293, -1.96353995, -0.40402376,  0.375616  ,\n",
       "        0.16219161, -0.03639462, -0.29662316,  1.05192883, -1.91992881,\n",
       "        1.9290971 , -1.53555173, -1.38362193,  1.84803056,  0.76318353,\n",
       "       -0.37561095, -0.24911264, -0.90292043,  0.81502806,  1.52377608,\n",
       "        0.44294858,  1.47641089,  1.5573205 , -0.70724238, -0.81560278,\n",
       "       -0.04203656, -0.96318323, -0.38773368,  0.27651804,  0.42026768,\n",
       "        1.18236869,  0.93214074,  0.81294749, -0.42158185,  0.18357129,\n",
       "       -0.27395708,  0.87105783,  1.20951044, -0.60225618, -0.18621286,\n",
       "       -0.16650221,  0.07403613, -1.38517399, -2.31202784, -1.57241181,\n",
       "       -0.21099822, -2.31446178,  1.64698248, -0.46654969, -0.9015564 ,\n",
       "       -0.3397874 , -0.66107832,  0.35416155, -0.16626899, -0.1684055 ])"
      ]
     },
     "execution_count": 26,
     "metadata": {},
     "output_type": "execute_result"
    }
   ],
   "source": [
    "import numpy as np\n",
    "import matplotlib.pyplot as plt\n",
    "from scipy.stats import norm\n",
    "# Create a NumPy array with 1000 samples from a normal distribution\n",
    "data = np.random.normal(loc=0, scale=1, size=1000)\n",
    "data"
   ]
  },
  {
   "cell_type": "code",
   "execution_count": 27,
   "id": "de6c97a3-12d2-44d9-a066-466a8b58a7e0",
   "metadata": {},
   "outputs": [
    {
     "data": {
      "text/plain": [
       "(array([0.00465906, 0.00465906, 0.01863622, 0.00931811, 0.02329528,\n",
       "        0.06522677, 0.07454488, 0.0931811 , 0.16772598, 0.13977165,\n",
       "        0.29352047, 0.33079291, 0.28886141, 0.34942913, 0.40533779,\n",
       "        0.3634063 , 0.34011102, 0.39136063, 0.28886141, 0.28886141,\n",
       "        0.19102126, 0.13045354, 0.13045354, 0.11181732, 0.05590866,\n",
       "        0.03261339, 0.02329528, 0.00931811, 0.02795433, 0.00465906]),\n",
       " array([-3.29656264, -3.08192684, -2.86729104, -2.65265525, -2.43801945,\n",
       "        -2.22338365, -2.00874786, -1.79411206, -1.57947626, -1.36484046,\n",
       "        -1.15020467, -0.93556887, -0.72093307, -0.50629727, -0.29166148,\n",
       "        -0.07702568,  0.13761012,  0.35224592,  0.56688171,  0.78151751,\n",
       "         0.99615331,  1.2107891 ,  1.4254249 ,  1.6400607 ,  1.8546965 ,\n",
       "         2.06933229,  2.28396809,  2.49860389,  2.71323969,  2.92787548,\n",
       "         3.14251128]),\n",
       " <BarContainer object of 30 artists>)"
      ]
     },
     "execution_count": 27,
     "metadata": {},
     "output_type": "execute_result"
    },
    {
     "data": {
      "image/png": "[encoded data removed]",
      "text/plain": [
       "<Figure size 800x600 with 1 Axes>"
      ]
     },
     "metadata": {},
     "output_type": "display_data"
    }
   ],
   "source": [
    "# Plot a histogram of the data with 30 bins\n",
    "plt.figure(figsize=(8, 6))\n",
    "plt.hist(data, bins=30, density=True, color='skyblue', edgecolor='black', alpha=0.7, label='Histogram')\n",
    "\n"
   ]
  },
  {
   "cell_type": "code",
   "execution_count": 28,
   "id": "5c44796f-c15c-4221-9633-52ab679385da",
   "metadata": {},
   "outputs": [
    {
     "data": {
      "text/plain": [
       "[<matplotlib.lines.Line2D at 0x7ff7c66c15a0>]"
      ]
     },
     "execution_count": 28,
     "metadata": {},
     "output_type": "execute_result"
    },
    {
     "data": {
      "image/png": "[encoded data removed]",
      "text/plain": [
       "<Figure size 640x480 with 1 Axes>"
      ]
     },
     "metadata": {},
     "output_type": "display_data"
    }
   ],
   "source": [
    "# Overlay a line plot representing the normal distribution's probability density function (PDF)\n",
    "xmin, xmax = plt.xlim()\n",
    "x = np.linspace(xmin, xmax, 100)\n",
    "p = norm.pdf(x, 0, 1)  # PDF of standard normal distribution with mean=0 and std=1\n",
    "plt.plot(x, p, 'k', linewidth=2, label='PDF')"
   ]
  },
  {
   "cell_type": "code",
   "execution_count": 29,
   "id": "2febfabe-1bbc-40ab-b7d9-49d2b2d7174b",
   "metadata": {},
   "outputs": [
    {
     "data": {
      "text/plain": [
       "Text(0, 0.5, 'Frequency/Probability')"
      ]
     },
     "execution_count": 29,
     "metadata": {},
     "output_type": "execute_result"
    },
    {
     "data": {
      "image/png": "[encoded data removed]",
      "text/plain": [
       "<Figure size 640x480 with 1 Axes>"
      ]
     },
     "metadata": {},
     "output_type": "display_data"
    }
   ],
   "source": [
    "# Label the axes\n",
    "plt.xlabel('Value')\n",
    "plt.ylabel('Frequency/Probability')\n",
    "\n"
   ]
  },
  {
   "cell_type": "code",
   "execution_count": 30,
   "id": "3a128ff0-c8cd-4e79-afaa-c9fa0734bc61",
   "metadata": {},
   "outputs": [
    {
     "data": {
      "text/plain": [
       "Text(0.5, 1.0, 'Histogram with PDF Overlay')"
      ]
     },
     "execution_count": 30,
     "metadata": {},
     "output_type": "execute_result"
    },
    {
     "data": {
      "image/png": "[encoded data removed]",
      "text/plain": [
       "<Figure size 640x480 with 1 Axes>"
      ]
     },
     "metadata": {},
     "output_type": "display_data"
    }
   ],
   "source": [
    "# Set the title of the plot\n",
    "plt.title('Histogram with PDF Overlay')\n",
    "\n"
   ]
  },
  {
   "cell_type": "code",
   "execution_count": 31,
   "id": "c6546a8c-e035-44ef-a0fe-3c2e537856e9",
   "metadata": {},
   "outputs": [
    {
     "data": {
      "text/plain": [
       "Text(0.5, 1.0, 'Histogram with PDF Overlay')"
      ]
     },
     "execution_count": 31,
     "metadata": {},
     "output_type": "execute_result"
    },
    {
     "data": {
      "image/png": "[encoded data removed]",
      "text/plain": [
       "<Figure size 640x480 with 1 Axes>"
      ]
     },
     "metadata": {},
     "output_type": "display_data"
    }
   ],
   "source": [
    "plt.title('Histogram with PDF Overlay')"
   ]
  },
  {
   "cell_type": "code",
   "execution_count": null,
   "id": "2705fcc1-6ed5-4666-abd2-cd9bf37b74c8",
   "metadata": {},
   "outputs": [],
   "source": [
    "\n",
    "\n",
    "\n",
    "\n",
    "\n",
    "\n",
    "\n",
    "\n",
    "\n",
    "\n",
    "\n",
    "\n",
    "\n",
    "\n",
    "\n",
    "\n",
    "\n",
    "\n"
   ]
  },
  {
   "cell_type": "code",
   "execution_count": 1,
   "id": "1e0cf6fc-d79c-40c6-9308-712968d69840",
   "metadata": {},
   "outputs": [],
   "source": [
    "#QUESTION17"
   ]
  },
  {
   "cell_type": "code",
   "execution_count": null,
   "id": "1b51c0d3-5ff8-4199-b9cf-e3c6f06c4dd6",
   "metadata": {},
   "outputs": [],
   "source": [
    "# Create a Seaborn scatter plot of two random arrays, color points based on their position relative to the\n",
    "#origin (quadrants), add a legend, label the axes, and set the title as 'Quadrant-wise Scatter Plot'."
   ]
  },
  {
   "cell_type": "code",
   "execution_count": 4,
   "id": "8c275f2b-1f4f-457f-bbe1-0d6e5f991a45",
   "metadata": {},
   "outputs": [],
   "source": [
    "import seaborn as sns\n",
    "import matplotlib.pyplot as plt\n",
    "import numpy as np\n",
    "import pandas as pd\n",
    "\n",
    "# Generate two random arrays\n",
    "x = np.random.randn(100)\n",
    "y = np.random.randn(100)\n",
    "\n"
   ]
  },
  {
   "cell_type": "code",
   "execution_count": 5,
   "id": "8e3e392f-a5dd-44d2-bd99-2b27d58a370a",
   "metadata": {},
   "outputs": [],
   "source": [
    "# Determine quadrant for each point\n",
    "quadrant = np.zeros(100)\n",
    "quadrant[(x > 0) & (y > 0)] = 1 \n",
    "quadrant[(x < 0) & (y > 0)] = 2\n",
    "quadrant[(x < 0) & (y < 0)] = 3\n",
    "quadrant[(x > 0) & (y < 0)] = 4  \n",
    "\n"
   ]
  },
  {
   "cell_type": "code",
   "execution_count": 6,
   "id": "372672aa-22ae-466e-bb19-fc9403263c11",
   "metadata": {},
   "outputs": [],
   "source": [
    "# Create a DataFrame for Seaborn plotting\n",
    "data = {'x': x, 'y': y, 'Quadrant': quadrant}\n",
    "df = pd.DataFrame(data)\n",
    "\n",
    "# Define color palette for each quadrant\n",
    "palette = {1: 'blue', 2: 'green', 3: 'orange', 4: 'red'}\n",
    "\n"
   ]
  },
  {
   "cell_type": "code",
   "execution_count": 7,
   "id": "2cdfb094-f93b-417f-bf21-088239e04ad5",
   "metadata": {},
   "outputs": [
    {
     "data": {
      "text/plain": [
       "<AxesSubplot: xlabel='x', ylabel='y'>"
      ]
     },
     "execution_count": 7,
     "metadata": {},
     "output_type": "execute_result"
    },
    {
     "data": {
      "image/png": "[encoded data removed]",
      "text/plain": [
       "<Figure size 640x480 with 1 Axes>"
      ]
     },
     "metadata": {},
     "output_type": "display_data"
    }
   ],
   "source": [
    "# Create the scatter plot\n",
    "sns.scatterplot(data=df, x='x', y='y', hue='Quadrant', palette=palette)\n",
    "\n"
   ]
  },
  {
   "cell_type": "code",
   "execution_count": 8,
   "id": "915a7cb7-65c1-469e-8a52-37c734ca34f4",
   "metadata": {},
   "outputs": [
    {
     "name": "stderr",
     "output_type": "stream",
     "text": [
      "No artists with labels found to put in legend.  Note that artists whose label start with an underscore are ignored when legend() is called with no argument.\n"
     ]
    },
    {
     "data": {
      "text/plain": [
       "<matplotlib.legend.Legend at 0x7f8c4123faf0>"
      ]
     },
     "execution_count": 8,
     "metadata": {},
     "output_type": "execute_result"
    },
    {
     "data": {
      "image/png": "[encoded data removed]",
      "text/plain": [
       "<Figure size 640x480 with 1 Axes>"
      ]
     },
     "metadata": {},
     "output_type": "display_data"
    }
   ],
   "source": [
    "# Label the axes and set the title\n",
    "plt.xlabel('X-axis')\n",
    "plt.ylabel('Y-axis')\n",
    "plt.title('Quadrant-wise Scatter Plot')\n",
    "\n",
    "# Show legend\n",
    "plt.legend(title='Quadrant')"
   ]
  },
  {
   "cell_type": "code",
   "execution_count": null,
   "id": "cb0565d1-6c98-443f-86ca-bb082e459866",
   "metadata": {},
   "outputs": [],
   "source": []
  }
 ],
 "metadata": {
  "kernelspec": {
   "display_name": "Python 3 (ipykernel)",
   "language": "python",
   "name": "python3"
  },
  "language_info": {
   "codemirror_mode": {
    "name": "ipython",
    "version": 3
   },
   "file_extension": ".py",
   "mimetype": "text/x-python",
   "name": "python",
   "nbconvert_exporter": "python",
   "pygments_lexer": "ipython3",
   "version": "3.10.8"
  }
 },
 "nbformat": 4,
 "nbformat_minor": 5
}
